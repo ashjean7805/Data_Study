{
 "cells": [
  {
   "attachments": {},
   "cell_type": "markdown",
   "metadata": {},
   "source": [
    "# Setting Environment\n",
    "## 1. Import Library\n",
    "### 1.1 Jupyter "
   ]
  },
  {
   "attachments": {},
   "cell_type": "markdown",
   "metadata": {},
   "source": [
    "### 1.2 Colab"
   ]
  },
  {
   "attachments": {},
   "cell_type": "markdown",
   "metadata": {},
   "source": [
    "### 1.3 Common"
   ]
  },
  {
   "cell_type": "code",
   "execution_count": null,
   "metadata": {},
   "outputs": [],
   "source": [
    "# Ignore the warnings\n",
    "import warnings\n",
    "# warnings.filterwarnings('always')\n",
    "warnings.filterwarnings('ignore')\n",
    "\n",
    "# System related and data input controls\n",
    "import os\n",
    "\n",
    "# Data manipulation and visualization\n",
    "import pandas as pd\n",
    "## 소수점 2번째 자리 까지 표현\n",
    "pd.options.display.float_format = '{:,.2f}'.format\n",
    "\n",
    "## Limit the number of rows expressed\n",
    "## If you use Colab Pandas Feature, you may not want to use this option\n",
    "# pd.options.display.max_rows = 10\n",
    "# pd.options.display.max_columns = 20\n",
    "\n",
    "import numpy as np\n",
    "import matplotlib.pyplot as plt\n",
    "import seaborn as sns\n",
    "\n",
    "# Modeling algorithms\n",
    "# General\n",
    "import statsmodels.api as sm\n",
    "from scipy import stats\n",
    "\n",
    "# Model selection\n",
    "from sklearn.model_selection import train_test_split\n",
    "\n",
    "# Evaluation metrics\n",
    "# for regression\n",
    "from sklearn.metrics import mean_squared_log_error, mean_squared_error,  r2_score, mean_absolute_error"
   ]
  },
  {
   "attachments": {},
   "cell_type": "markdown",
   "metadata": {},
   "source": [
    "## 2. Data Loading\n",
    "Sample Data : [(Link)](https://www.kaggle.com/c/bike-sharing-demand/data)"
   ]
  }
 ],
 "metadata": {
  "language_info": {
   "name": "python"
  },
  "orig_nbformat": 4
 },
 "nbformat": 4,
 "nbformat_minor": 2
}
