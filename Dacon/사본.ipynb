{
  "nbformat": 4,
  "nbformat_minor": 0,
  "metadata": {
    "kernelspec": {
      "display_name": "Python 3",
      "language": "python",
      "name": "python3"
    },
    "language_info": {
      "codemirror_mode": {
        "name": "ipython",
        "version": 3
      },
      "file_extension": ".py",
      "mimetype": "text/x-python",
      "name": "python",
      "nbconvert_exporter": "python",
      "pygments_lexer": "ipython3",
      "version": "3.7.7"
    },
    "colab": {
      "name": "사본",
      "provenance": [],
      "collapsed_sections": []
    }
  },
  "cells": [
    {
      "cell_type": "code",
      "metadata": {
        "id": "aOSqFezFKtvr"
      },
      "source": [
        "import pandas as pd\n",
        "import numpy as np\n",
        "from sklearn.preprocessing import LabelEncoder"
      ],
      "execution_count": null,
      "outputs": []
    },
    {
      "cell_type": "code",
      "metadata": {
        "id": "1Kb82dc7PoXs",
        "colab": {
          "base_uri": "https://localhost:8080/",
          "height": 1000
        },
        "outputId": "1d01cf1f-912d-4ee3-827b-8d6bbc214e36"
      },
      "source": [
        "from google.colab import drive\n",
        "drive.mount('/content/drive')\n",
        " \n",
        "import sys\n",
        "sys.version_info\n",
        " \n",
        "import platform\n",
        "platform.platform()\n",
        " \n",
        "import pkg_resources\n",
        "dists = [d for d in pkg_resources.working_set]\n",
        "dists"
      ],
      "execution_count": null,
      "outputs": [
        {
          "output_type": "stream",
          "text": [
            "Go to this URL in a browser: https://accounts.google.com/o/oauth2/auth?client_id=947318989803-6bn6qk8qdgf4n4g3pfee6491hc0brc4i.apps.googleusercontent.com&redirect_uri=urn%3aietf%3awg%3aoauth%3a2.0%3aoob&response_type=code&scope=email%20https%3a%2f%2fwww.googleapis.com%2fauth%2fdocs.test%20https%3a%2f%2fwww.googleapis.com%2fauth%2fdrive%20https%3a%2f%2fwww.googleapis.com%2fauth%2fdrive.photos.readonly%20https%3a%2f%2fwww.googleapis.com%2fauth%2fpeopleapi.readonly\n",
            "\n",
            "Enter your authorization code:\n",
            "··········\n",
            "Mounted at /content/drive\n"
          ],
          "name": "stdout"
        },
        {
          "output_type": "execute_result",
          "data": {
            "text/plain": [
              "[zipp 3.1.0 (/usr/local/lib/python3.6/dist-packages),\n",
              " zict 2.0.0 (/usr/local/lib/python3.6/dist-packages),\n",
              " yellowbrick 0.9.1 (/usr/local/lib/python3.6/dist-packages),\n",
              " xlwt 1.3.0 (/usr/local/lib/python3.6/dist-packages),\n",
              " xlrd 1.1.0 (/usr/local/lib/python3.6/dist-packages),\n",
              " xgboost 0.90 (/usr/local/lib/python3.6/dist-packages),\n",
              " xarray 0.15.1 (/usr/local/lib/python3.6/dist-packages),\n",
              " wrapt 1.12.1 (/usr/local/lib/python3.6/dist-packages),\n",
              " wordcloud 1.5.0 (/usr/local/lib/python3.6/dist-packages),\n",
              " widgetsnbextension 3.5.1 (/usr/local/lib/python3.6/dist-packages),\n",
              " wheel 0.34.2 (/usr/local/lib/python3.6/dist-packages),\n",
              " Werkzeug 1.0.1 (/usr/local/lib/python3.6/dist-packages),\n",
              " webencodings 0.5.1 (/usr/local/lib/python3.6/dist-packages),\n",
              " wcwidth 0.2.5 (/usr/local/lib/python3.6/dist-packages),\n",
              " wasabi 0.7.1 (/usr/local/lib/python3.6/dist-packages),\n",
              " vega-datasets 0.8.0 (/usr/local/lib/python3.6/dist-packages),\n",
              " urllib3 1.24.3 (/usr/local/lib/python3.6/dist-packages),\n",
              " uritemplate 3.0.1 (/usr/local/lib/python3.6/dist-packages),\n",
              " umap-learn 0.4.6 (/usr/local/lib/python3.6/dist-packages),\n",
              " tzlocal 1.5.1 (/usr/local/lib/python3.6/dist-packages),\n",
              " typing-extensions 3.7.4.2 (/usr/local/lib/python3.6/dist-packages),\n",
              " typeguard 2.7.1 (/usr/local/lib/python3.6/dist-packages),\n",
              " tweepy 3.6.0 (/usr/local/lib/python3.6/dist-packages),\n",
              " traitlets 4.3.3 (/usr/local/lib/python3.6/dist-packages),\n",
              " tqdm 4.41.1 (/usr/local/lib/python3.6/dist-packages),\n",
              " tornado 5.1.1 (/usr/local/lib/python3.6/dist-packages),\n",
              " torchvision 0.6.1+cu101 (/usr/local/lib/python3.6/dist-packages),\n",
              " torchtext 0.3.1 (/usr/local/lib/python3.6/dist-packages),\n",
              " torchsummary 1.5.1 (/usr/local/lib/python3.6/dist-packages),\n",
              " torch 1.5.1+cu101 (/usr/local/lib/python3.6/dist-packages),\n",
              " toolz 0.10.0 (/usr/local/lib/python3.6/dist-packages),\n",
              " tifffile 2020.7.24 (/usr/local/lib/python3.6/dist-packages),\n",
              " thinc 7.4.0 (/usr/local/lib/python3.6/dist-packages),\n",
              " Theano 1.0.5 (/usr/local/lib/python3.6/dist-packages),\n",
              " textgenrnn 1.4.1 (/usr/local/lib/python3.6/dist-packages),\n",
              " textblob 0.15.3 (/usr/local/lib/python3.6/dist-packages),\n",
              " text-unidecode 1.3 (/usr/local/lib/python3.6/dist-packages),\n",
              " testpath 0.4.4 (/usr/local/lib/python3.6/dist-packages),\n",
              " terminado 0.8.3 (/usr/local/lib/python3.6/dist-packages),\n",
              " termcolor 1.1.0 (/usr/local/lib/python3.6/dist-packages),\n",
              " tensorflow 2.2.0 (/usr/local/lib/python3.6/dist-packages),\n",
              " tensorflow-probability 0.10.0 (/usr/local/lib/python3.6/dist-packages),\n",
              " tensorflow-privacy 0.2.2 (/usr/local/lib/python3.6/dist-packages),\n",
              " tensorflow-metadata 0.22.2 (/usr/local/lib/python3.6/dist-packages),\n",
              " tensorflow-hub 0.8.0 (/usr/local/lib/python3.6/dist-packages),\n",
              " tensorflow-gcs-config 2.2.0 (/usr/local/lib/python3.6/dist-packages),\n",
              " tensorflow-estimator 2.2.0 (/usr/local/lib/python3.6/dist-packages),\n",
              " tensorflow-datasets 2.1.0 (/usr/local/lib/python3.6/dist-packages),\n",
              " tensorflow-addons 0.8.3 (/usr/local/lib/python3.6/dist-packages),\n",
              " tensorboardcolab 0.0.22 (/usr/local/lib/python3.6/dist-packages),\n",
              " tensorboard 2.2.2 (/usr/local/lib/python3.6/dist-packages),\n",
              " tensorboard-plugin-wit 1.7.0 (/usr/local/lib/python3.6/dist-packages),\n",
              " tblib 1.7.0 (/usr/local/lib/python3.6/dist-packages),\n",
              " tabulate 0.8.7 (/usr/local/lib/python3.6/dist-packages),\n",
              " tables 3.4.4 (/usr/local/lib/python3.6/dist-packages),\n",
              " sympy 1.1.1 (/usr/local/lib/python3.6/dist-packages),\n",
              " statsmodels 0.10.2 (/usr/local/lib/python3.6/dist-packages),\n",
              " srsly 1.0.2 (/usr/local/lib/python3.6/dist-packages),\n",
              " sqlparse 0.3.1 (/usr/local/lib/python3.6/dist-packages),\n",
              " SQLAlchemy 1.3.18 (/usr/local/lib/python3.6/dist-packages),\n",
              " sphinxcontrib-websupport 1.2.3 (/usr/local/lib/python3.6/dist-packages),\n",
              " Sphinx 1.8.5 (/usr/local/lib/python3.6/dist-packages),\n",
              " spacy 2.2.4 (/usr/local/lib/python3.6/dist-packages),\n",
              " sortedcontainers 2.2.2 (/usr/local/lib/python3.6/dist-packages),\n",
              " snowballstemmer 2.0.0 (/usr/local/lib/python3.6/dist-packages),\n",
              " smart-open 2.1.0 (/usr/local/lib/python3.6/dist-packages),\n",
              " sklearn 0.0 (/usr/local/lib/python3.6/dist-packages),\n",
              " sklearn-pandas 1.8.0 (/usr/local/lib/python3.6/dist-packages),\n",
              " six 1.15.0 (/usr/local/lib/python3.6/dist-packages),\n",
              " simplegeneric 0.8.1 (/usr/local/lib/python3.6/dist-packages),\n",
              " Shapely 1.7.0 (/usr/local/lib/python3.6/dist-packages),\n",
              " setuptools 49.1.0 (/usr/local/lib/python3.6/dist-packages),\n",
              " setuptools-git 1.2 (/usr/local/lib/python3.6/dist-packages),\n",
              " Send2Trash 1.5.0 (/usr/local/lib/python3.6/dist-packages),\n",
              " seaborn 0.10.1 (/usr/local/lib/python3.6/dist-packages),\n",
              " scs 2.1.2 (/usr/local/lib/python3.6/dist-packages),\n",
              " scipy 1.4.1 (/usr/local/lib/python3.6/dist-packages),\n",
              " scikit-learn 0.22.2.post1 (/usr/local/lib/python3.6/dist-packages),\n",
              " scikit-image 0.16.2 (/usr/local/lib/python3.6/dist-packages),\n",
              " s3transfer 0.3.3 (/usr/local/lib/python3.6/dist-packages),\n",
              " s3fs 0.4.2 (/usr/local/lib/python3.6/dist-packages),\n",
              " rsa 4.6 (/usr/local/lib/python3.6/dist-packages),\n",
              " rpy2 3.2.7 (/usr/local/lib/python3.6/dist-packages),\n",
              " retrying 1.3.3 (/usr/local/lib/python3.6/dist-packages),\n",
              " resampy 0.2.2 (/usr/local/lib/python3.6/dist-packages),\n",
              " requests 2.23.0 (/usr/local/lib/python3.6/dist-packages),\n",
              " requests-oauthlib 1.3.0 (/usr/local/lib/python3.6/dist-packages),\n",
              " regex 2019.12.20 (/usr/local/lib/python3.6/dist-packages),\n",
              " QtPy 1.9.0 (/usr/local/lib/python3.6/dist-packages),\n",
              " qtconsole 4.7.5 (/usr/local/lib/python3.6/dist-packages),\n",
              " pyzmq 19.0.1 (/usr/local/lib/python3.6/dist-packages),\n",
              " PyYAML 3.13 (/usr/local/lib/python3.6/dist-packages),\n",
              " PyWavelets 1.1.1 (/usr/local/lib/python3.6/dist-packages),\n",
              " pyviz-comms 0.7.6 (/usr/local/lib/python3.6/dist-packages),\n",
              " pytz 2018.9 (/usr/local/lib/python3.6/dist-packages),\n",
              " python-utils 2.4.0 (/usr/local/lib/python3.6/dist-packages),\n",
              " python-slugify 4.0.1 (/usr/local/lib/python3.6/dist-packages),\n",
              " python-louvain 0.14 (/usr/local/lib/python3.6/dist-packages),\n",
              " python-dateutil 2.8.1 (/usr/local/lib/python3.6/dist-packages),\n",
              " python-chess 0.23.11 (/usr/local/lib/python3.6/dist-packages),\n",
              " pytest 3.6.4 (/usr/local/lib/python3.6/dist-packages),\n",
              " pystan 2.19.1.1 (/usr/local/lib/python3.6/dist-packages),\n",
              " PySocks 1.7.1 (/usr/local/lib/python3.6/dist-packages),\n",
              " pysndfile 1.3.8 (/usr/local/lib/python3.6/dist-packages),\n",
              " pyrsistent 0.16.0 (/usr/local/lib/python3.6/dist-packages),\n",
              " pyparsing 2.4.7 (/usr/local/lib/python3.6/dist-packages),\n",
              " PyOpenGL 3.1.5 (/usr/local/lib/python3.6/dist-packages),\n",
              " pymystem3 0.2.0 (/usr/local/lib/python3.6/dist-packages),\n",
              " pymongo 3.10.1 (/usr/local/lib/python3.6/dist-packages),\n",
              " PyMeeus 0.3.7 (/usr/local/lib/python3.6/dist-packages),\n",
              " pymc3 3.7 (/usr/local/lib/python3.6/dist-packages),\n",
              " Pygments 2.1.3 (/usr/local/lib/python3.6/dist-packages),\n",
              " pyglet 1.5.0 (/usr/local/lib/python3.6/dist-packages),\n",
              " pyemd 0.5.1 (/usr/local/lib/python3.6/dist-packages),\n",
              " PyDrive 1.3.1 (/usr/local/lib/python3.6/dist-packages),\n",
              " pydotplus 2.0.2 (/usr/local/lib/python3.6/dist-packages),\n",
              " pydot 1.3.0 (/usr/local/lib/python3.6/dist-packages),\n",
              " pydot-ng 2.0.0 (/usr/local/lib/python3.6/dist-packages),\n",
              " pydata-google-auth 1.1.0 (/usr/local/lib/python3.6/dist-packages),\n",
              " pyct 0.4.6 (/usr/local/lib/python3.6/dist-packages),\n",
              " pycparser 2.20 (/usr/local/lib/python3.6/dist-packages),\n",
              " pycocotools 2.0.1 (/usr/local/lib/python3.6/dist-packages),\n",
              " pyasn1 0.4.8 (/usr/local/lib/python3.6/dist-packages),\n",
              " pyasn1-modules 0.2.8 (/usr/local/lib/python3.6/dist-packages),\n",
              " pyarrow 0.14.1 (/usr/local/lib/python3.6/dist-packages),\n",
              " py 1.9.0 (/usr/local/lib/python3.6/dist-packages),\n",
              " ptyprocess 0.6.0 (/usr/local/lib/python3.6/dist-packages),\n",
              " psycopg2 2.7.6.1 (/usr/local/lib/python3.6/dist-packages),\n",
              " psutil 5.4.8 (/usr/local/lib/python3.6/dist-packages),\n",
              " protobuf 3.12.2 (/usr/local/lib/python3.6/dist-packages),\n",
              " prompt-toolkit 1.0.18 (/usr/local/lib/python3.6/dist-packages),\n",
              " promise 2.3 (/usr/local/lib/python3.6/dist-packages),\n",
              " prometheus-client 0.8.0 (/usr/local/lib/python3.6/dist-packages),\n",
              " progressbar2 3.38.0 (/usr/local/lib/python3.6/dist-packages),\n",
              " prettytable 0.7.2 (/usr/local/lib/python3.6/dist-packages),\n",
              " preshed 3.0.2 (/usr/local/lib/python3.6/dist-packages),\n",
              " prefetch-generator 1.0.1 (/usr/local/lib/python3.6/dist-packages),\n",
              " portpicker 1.3.1 (/usr/local/lib/python3.6/dist-packages),\n",
              " pluggy 0.7.1 (/usr/local/lib/python3.6/dist-packages),\n",
              " plotnine 0.6.0 (/usr/local/lib/python3.6/dist-packages),\n",
              " plotly 4.4.1 (/usr/local/lib/python3.6/dist-packages),\n",
              " plac 1.1.3 (/usr/local/lib/python3.6/dist-packages),\n",
              " pip 19.3.1 (/usr/local/lib/python3.6/dist-packages),\n",
              " pip-tools 4.5.1 (/usr/local/lib/python3.6/dist-packages),\n",
              " Pillow 7.0.0 (/usr/local/lib/python3.6/dist-packages),\n",
              " pickleshare 0.7.5 (/usr/local/lib/python3.6/dist-packages),\n",
              " pexpect 4.8.0 (/usr/local/lib/python3.6/dist-packages),\n",
              " patsy 0.5.1 (/usr/local/lib/python3.6/dist-packages),\n",
              " pathlib 1.0.1 (/usr/local/lib/python3.6/dist-packages),\n",
              " parso 0.7.1 (/usr/local/lib/python3.6/dist-packages),\n",
              " param 1.9.3 (/usr/local/lib/python3.6/dist-packages),\n",
              " panel 0.9.7 (/usr/local/lib/python3.6/dist-packages),\n",
              " pandocfilters 1.4.2 (/usr/local/lib/python3.6/dist-packages),\n",
              " pandas 1.0.5 (/usr/local/lib/python3.6/dist-packages),\n",
              " pandas-profiling 1.4.1 (/usr/local/lib/python3.6/dist-packages),\n",
              " pandas-gbq 0.11.0 (/usr/local/lib/python3.6/dist-packages),\n",
              " pandas-datareader 0.8.1 (/usr/local/lib/python3.6/dist-packages),\n",
              " palettable 3.3.0 (/usr/local/lib/python3.6/dist-packages),\n",
              " packaging 20.4 (/usr/local/lib/python3.6/dist-packages),\n",
              " osqp 0.6.1 (/usr/local/lib/python3.6/dist-packages),\n",
              " opt-einsum 3.3.0 (/usr/local/lib/python3.6/dist-packages),\n",
              " openpyxl 2.5.9 (/usr/local/lib/python3.6/dist-packages),\n",
              " opencv-python 4.1.2.30 (/usr/local/lib/python3.6/dist-packages),\n",
              " opencv-contrib-python 4.1.2.30 (/usr/local/lib/python3.6/dist-packages),\n",
              " okgrade 0.4.3 (/usr/local/lib/python3.6/dist-packages),\n",
              " oauthlib 3.1.0 (/usr/local/lib/python3.6/dist-packages),\n",
              " oauth2client 4.1.3 (/usr/local/lib/python3.6/dist-packages),\n",
              " nvidia-ml-py3 7.352.0 (/usr/local/lib/python3.6/dist-packages),\n",
              " numpy 1.18.5 (/usr/local/lib/python3.6/dist-packages),\n",
              " numexpr 2.7.1 (/usr/local/lib/python3.6/dist-packages),\n",
              " numba 0.48.0 (/usr/local/lib/python3.6/dist-packages),\n",
              " np-utils 0.5.12.1 (/usr/local/lib/python3.6/dist-packages),\n",
              " notebook 5.3.1 (/usr/local/lib/python3.6/dist-packages),\n",
              " nltk 3.2.5 (/usr/local/lib/python3.6/dist-packages),\n",
              " nibabel 3.0.2 (/usr/local/lib/python3.6/dist-packages),\n",
              " networkx 2.4 (/usr/local/lib/python3.6/dist-packages),\n",
              " nbformat 5.0.7 (/usr/local/lib/python3.6/dist-packages),\n",
              " nbconvert 5.6.1 (/usr/local/lib/python3.6/dist-packages),\n",
              " natsort 5.5.0 (/usr/local/lib/python3.6/dist-packages),\n",
              " music21 5.5.0 (/usr/local/lib/python3.6/dist-packages),\n",
              " murmurhash 1.0.2 (/usr/local/lib/python3.6/dist-packages),\n",
              " multitasking 0.0.9 (/usr/local/lib/python3.6/dist-packages),\n",
              " multiprocess 0.70.10 (/usr/local/lib/python3.6/dist-packages),\n",
              " msgpack 1.0.0 (/usr/local/lib/python3.6/dist-packages),\n",
              " mpmath 1.1.0 (/usr/local/lib/python3.6/dist-packages),\n",
              " moviepy 0.2.3.5 (/usr/local/lib/python3.6/dist-packages),\n",
              " more-itertools 8.4.0 (/usr/local/lib/python3.6/dist-packages),\n",
              " mlxtend 0.14.0 (/usr/local/lib/python3.6/dist-packages),\n",
              " mkl 2019.0 (/usr/local/lib/python3.6/dist-packages),\n",
              " mizani 0.6.0 (/usr/local/lib/python3.6/dist-packages),\n",
              " mistune 0.8.4 (/usr/local/lib/python3.6/dist-packages),\n",
              " missingno 0.4.2 (/usr/local/lib/python3.6/dist-packages),\n",
              " matplotlib 3.2.2 (/usr/local/lib/python3.6/dist-packages),\n",
              " matplotlib-venn 0.11.5 (/usr/local/lib/python3.6/dist-packages),\n",
              " MarkupSafe 1.1.1 (/usr/local/lib/python3.6/dist-packages),\n",
              " Markdown 3.2.2 (/usr/local/lib/python3.6/dist-packages),\n",
              " lxml 4.2.6 (/usr/local/lib/python3.6/dist-packages),\n",
              " LunarCalendar 0.0.9 (/usr/local/lib/python3.6/dist-packages),\n",
              " lucid 0.3.8 (/usr/local/lib/python3.6/dist-packages),\n",
              " lmdb 0.98 (/usr/local/lib/python3.6/dist-packages),\n",
              " llvmlite 0.31.0 (/usr/local/lib/python3.6/dist-packages),\n",
              " lightgbm 2.2.3 (/usr/local/lib/python3.6/dist-packages),\n",
              " librosa 0.6.3 (/usr/local/lib/python3.6/dist-packages),\n",
              " knnimpute 0.1.0 (/usr/local/lib/python3.6/dist-packages),\n",
              " kiwisolver 1.2.0 (/usr/local/lib/python3.6/dist-packages),\n",
              " Keras 2.3.1 (/usr/local/lib/python3.6/dist-packages),\n",
              " keras-vis 0.4.1 (/usr/local/lib/python3.6/dist-packages),\n",
              " Keras-Preprocessing 1.1.2 (/usr/local/lib/python3.6/dist-packages),\n",
              " Keras-Applications 1.0.8 (/usr/local/lib/python3.6/dist-packages),\n",
              " kapre 0.1.3.1 (/usr/local/lib/python3.6/dist-packages),\n",
              " kaggle 1.5.6 (/usr/local/lib/python3.6/dist-packages),\n",
              " jupyter 1.0.0 (/usr/local/lib/python3.6/dist-packages),\n",
              " jupyter-core 4.6.3 (/usr/local/lib/python3.6/dist-packages),\n",
              " jupyter-console 5.2.0 (/usr/local/lib/python3.6/dist-packages),\n",
              " jupyter-client 5.3.5 (/usr/local/lib/python3.6/dist-packages),\n",
              " jsonschema 2.6.0 (/usr/local/lib/python3.6/dist-packages),\n",
              " jpeg4py 0.1.4 (/usr/local/lib/python3.6/dist-packages),\n",
              " joblib 0.16.0 (/usr/local/lib/python3.6/dist-packages),\n",
              " jmespath 0.10.0 (/usr/local/lib/python3.6/dist-packages),\n",
              " Jinja2 2.11.2 (/usr/local/lib/python3.6/dist-packages),\n",
              " jieba 0.42.1 (/usr/local/lib/python3.6/dist-packages),\n",
              " jedi 0.17.2 (/usr/local/lib/python3.6/dist-packages),\n",
              " jdcal 1.4.1 (/usr/local/lib/python3.6/dist-packages),\n",
              " jaxlib 0.1.52 (/usr/local/lib/python3.6/dist-packages),\n",
              " jax 0.1.73 (/usr/local/lib/python3.6/dist-packages),\n",
              " itsdangerous 1.1.0 (/usr/local/lib/python3.6/dist-packages),\n",
              " ipywidgets 7.5.1 (/usr/local/lib/python3.6/dist-packages),\n",
              " ipython 5.5.0 (/usr/local/lib/python3.6/dist-packages),\n",
              " ipython-sql 0.3.9 (/usr/local/lib/python3.6/dist-packages),\n",
              " ipython-genutils 0.2.0 (/usr/local/lib/python3.6/dist-packages),\n",
              " ipykernel 4.10.1 (/usr/local/lib/python3.6/dist-packages),\n",
              " intervaltree 2.1.0 (/usr/local/lib/python3.6/dist-packages),\n",
              " intel-openmp 2020.0.133 (/usr/local/lib/python3.6/dist-packages),\n",
              " inflect 2.1.0 (/usr/local/lib/python3.6/dist-packages),\n",
              " imutils 0.5.3 (/usr/local/lib/python3.6/dist-packages),\n",
              " importlib-metadata 1.7.0 (/usr/local/lib/python3.6/dist-packages),\n",
              " imgaug 0.2.9 (/usr/local/lib/python3.6/dist-packages),\n",
              " imblearn 0.0 (/usr/local/lib/python3.6/dist-packages),\n",
              " imbalanced-learn 0.4.3 (/usr/local/lib/python3.6/dist-packages),\n",
              " imagesize 1.2.0 (/usr/local/lib/python3.6/dist-packages),\n",
              " imageio 2.4.1 (/usr/local/lib/python3.6/dist-packages),\n",
              " image 1.5.32 (/usr/local/lib/python3.6/dist-packages),\n",
              " idna 2.10 (/usr/local/lib/python3.6/dist-packages),\n",
              " ideep4py 2.0.0.post3 (/usr/local/lib/python3.6/dist-packages),\n",
              " hyperopt 0.1.2 (/usr/local/lib/python3.6/dist-packages),\n",
              " humanize 0.5.1 (/usr/local/lib/python3.6/dist-packages),\n",
              " httplib2shim 0.0.3 (/usr/local/lib/python3.6/dist-packages),\n",
              " httplib2 0.17.4 (/usr/local/lib/python3.6/dist-packages),\n",
              " httpimport 0.5.18 (/usr/local/lib/python3.6/dist-packages),\n",
              " html5lib 1.0.1 (/usr/local/lib/python3.6/dist-packages),\n",
              " holoviews 1.13.3 (/usr/local/lib/python3.6/dist-packages),\n",
              " holidays 0.9.12 (/usr/local/lib/python3.6/dist-packages),\n",
              " HeapDict 1.0.1 (/usr/local/lib/python3.6/dist-packages),\n",
              " h5py 2.10.0 (/usr/local/lib/python3.6/dist-packages),\n",
              " gym 0.17.2 (/usr/local/lib/python3.6/dist-packages),\n",
              " gspread 3.0.1 (/usr/local/lib/python3.6/dist-packages),\n",
              " gspread-dataframe 3.0.7 (/usr/local/lib/python3.6/dist-packages),\n",
              " grpcio 1.30.0 (/usr/local/lib/python3.6/dist-packages),\n",
              " graphviz 0.10.1 (/usr/local/lib/python3.6/dist-packages),\n",
              " googledrivedownloader 0.4 (/usr/local/lib/python3.6/dist-packages),\n",
              " googleapis-common-protos 1.52.0 (/usr/local/lib/python3.6/dist-packages),\n",
              " google 2.0.3 (/usr/local/lib/python3.6/dist-packages),\n",
              " google-resumable-media 0.4.1 (/usr/local/lib/python3.6/dist-packages),\n",
              " google-pasta 0.2.0 (/usr/local/lib/python3.6/dist-packages),\n",
              " google-colab 1.0.0 (/usr/local/lib/python3.6/dist-packages),\n",
              " google-cloud-translate 1.5.0 (/usr/local/lib/python3.6/dist-packages),\n",
              " google-cloud-storage 1.18.1 (/usr/local/lib/python3.6/dist-packages),\n",
              " google-cloud-language 1.2.0 (/usr/local/lib/python3.6/dist-packages),\n",
              " google-cloud-firestore 1.7.0 (/usr/local/lib/python3.6/dist-packages),\n",
              " google-cloud-datastore 1.8.0 (/usr/local/lib/python3.6/dist-packages),\n",
              " google-cloud-core 1.0.3 (/usr/local/lib/python3.6/dist-packages),\n",
              " google-cloud-bigquery 1.21.0 (/usr/local/lib/python3.6/dist-packages),\n",
              " google-auth 1.17.2 (/usr/local/lib/python3.6/dist-packages),\n",
              " google-auth-oauthlib 0.4.1 (/usr/local/lib/python3.6/dist-packages),\n",
              " google-auth-httplib2 0.0.4 (/usr/local/lib/python3.6/dist-packages),\n",
              " google-api-python-client 1.7.12 (/usr/local/lib/python3.6/dist-packages),\n",
              " google-api-core 1.16.0 (/usr/local/lib/python3.6/dist-packages),\n",
              " glob2 0.7 (/usr/local/lib/python3.6/dist-packages),\n",
              " gin-config 0.3.0 (/usr/local/lib/python3.6/dist-packages),\n",
              " geopy 1.17.0 (/usr/local/lib/python3.6/dist-packages),\n",
              " geographiclib 1.50 (/usr/local/lib/python3.6/dist-packages),\n",
              " gensim 3.6.0 (/usr/local/lib/python3.6/dist-packages),\n",
              " gdown 3.6.4 (/usr/local/lib/python3.6/dist-packages),\n",
              " gast 0.3.3 (/usr/local/lib/python3.6/dist-packages),\n",
              " future 0.16.0 (/usr/local/lib/python3.6/dist-packages),\n",
              " fsspec 0.7.4 (/usr/local/lib/python3.6/dist-packages),\n",
              " folium 0.8.3 (/usr/local/lib/python3.6/dist-packages),\n",
              " Flask 1.1.2 (/usr/local/lib/python3.6/dist-packages),\n",
              " fix-yahoo-finance 0.0.22 (/usr/local/lib/python3.6/dist-packages),\n",
              " firebase-admin 4.1.0 (/usr/local/lib/python3.6/dist-packages),\n",
              " filelock 3.0.12 (/usr/local/lib/python3.6/dist-packages),\n",
              " featuretools 0.4.1 (/usr/local/lib/python3.6/dist-packages),\n",
              " feather-format 0.4.1 (/usr/local/lib/python3.6/dist-packages),\n",
              " fbprophet 0.6 (/usr/local/lib/python3.6/dist-packages),\n",
              " fastrlock 0.5 (/usr/local/lib/python3.6/dist-packages),\n",
              " fastprogress 0.2.3 (/usr/local/lib/python3.6/dist-packages),\n",
              " fastdtw 0.3.4 (/usr/local/lib/python3.6/dist-packages),\n",
              " fastai 1.0.61 (/usr/local/lib/python3.6/dist-packages),\n",
              " fancyimpute 0.4.3 (/usr/local/lib/python3.6/dist-packages),\n",
              " fa2 0.3.5 (/usr/local/lib/python3.6/dist-packages),\n",
              " et-xmlfile 1.0.1 (/usr/local/lib/python3.6/dist-packages),\n",
              " ephem 3.7.7.1 (/usr/local/lib/python3.6/dist-packages),\n",
              " entrypoints 0.3 (/usr/local/lib/python3.6/dist-packages),\n",
              " en-core-web-sm 2.2.5 (/usr/local/lib/python3.6/dist-packages),\n",
              " editdistance 0.5.3 (/usr/local/lib/python3.6/dist-packages),\n",
              " ecos 2.0.7.post1 (/usr/local/lib/python3.6/dist-packages),\n",
              " easydict 1.9 (/usr/local/lib/python3.6/dist-packages),\n",
              " earthengine-api 0.1.228 (/usr/local/lib/python3.6/dist-packages),\n",
              " dopamine-rl 1.0.5 (/usr/local/lib/python3.6/dist-packages),\n",
              " docutils 0.15.2 (/usr/local/lib/python3.6/dist-packages),\n",
              " docopt 0.6.2 (/usr/local/lib/python3.6/dist-packages),\n",
              " dlib 19.18.0 (/usr/local/lib/python3.6/dist-packages),\n",
              " Django 3.0.8 (/usr/local/lib/python3.6/dist-packages),\n",
              " distributed 1.25.3 (/usr/local/lib/python3.6/dist-packages),\n",
              " dill 0.3.2 (/usr/local/lib/python3.6/dist-packages),\n",
              " descartes 1.1.0 (/usr/local/lib/python3.6/dist-packages),\n",
              " defusedxml 0.6.0 (/usr/local/lib/python3.6/dist-packages),\n",
              " decorator 4.4.2 (/usr/local/lib/python3.6/dist-packages),\n",
              " datascience 0.10.6 (/usr/local/lib/python3.6/dist-packages),\n",
              " dataclasses 0.7 (/usr/local/lib/python3.6/dist-packages),\n",
              " dask 2.12.0 (/usr/local/lib/python3.6/dist-packages),\n",
              " daft 0.0.4 (/usr/local/lib/python3.6/dist-packages),\n",
              " Cython 0.29.21 (/usr/local/lib/python3.6/dist-packages),\n",
              " cymem 2.0.3 (/usr/local/lib/python3.6/dist-packages),\n",
              " cycler 0.10.0 (/usr/local/lib/python3.6/dist-packages),\n",
              " cvxpy 1.0.31 (/usr/local/lib/python3.6/dist-packages),\n",
              " cvxopt 1.2.5 (/usr/local/lib/python3.6/dist-packages),\n",
              " cufflinks 0.17.3 (/usr/local/lib/python3.6/dist-packages),\n",
              " crcmod 1.7 (/usr/local/lib/python3.6/dist-packages),\n",
              " coveralls 0.5 (/usr/local/lib/python3.6/dist-packages),\n",
              " coverage 3.7.1 (/usr/local/lib/python3.6/dist-packages),\n",
              " convertdate 2.2.1 (/usr/local/lib/python3.6/dist-packages),\n",
              " contextlib2 0.5.5 (/usr/local/lib/python3.6/dist-packages),\n",
              " community 1.0.0b1 (/usr/local/lib/python3.6/dist-packages),\n",
              " colorlover 0.3.0 (/usr/local/lib/python3.6/dist-packages),\n",
              " cmdstanpy 0.4.0 (/usr/local/lib/python3.6/dist-packages),\n",
              " cmake 3.12.0 (/usr/local/lib/python3.6/dist-packages),\n",
              " cloudpickle 1.3.0 (/usr/local/lib/python3.6/dist-packages),\n",
              " click 7.1.2 (/usr/local/lib/python3.6/dist-packages),\n",
              " chardet 3.0.4 (/usr/local/lib/python3.6/dist-packages),\n",
              " chainer 7.4.0 (/usr/local/lib/python3.6/dist-packages),\n",
              " cffi 1.14.1 (/usr/local/lib/python3.6/dist-packages),\n",
              " certifi 2020.6.20 (/usr/local/lib/python3.6/dist-packages),\n",
              " catalogue 1.0.0 (/usr/local/lib/python3.6/dist-packages),\n",
              " cachetools 4.1.1 (/usr/local/lib/python3.6/dist-packages),\n",
              " CacheControl 0.12.6 (/usr/local/lib/python3.6/dist-packages),\n",
              " bs4 0.0.1 (/usr/local/lib/python3.6/dist-packages),\n",
              " branca 0.4.1 (/usr/local/lib/python3.6/dist-packages),\n",
              " Bottleneck 1.3.2 (/usr/local/lib/python3.6/dist-packages),\n",
              " botocore 1.17.28 (/usr/local/lib/python3.6/dist-packages),\n",
              " boto3 1.14.28 (/usr/local/lib/python3.6/dist-packages),\n",
              " boto 2.49.0 (/usr/local/lib/python3.6/dist-packages),\n",
              " bokeh 2.1.1 (/usr/local/lib/python3.6/dist-packages),\n",
              " blis 0.4.1 (/usr/local/lib/python3.6/dist-packages),\n",
              " bleach 3.1.5 (/usr/local/lib/python3.6/dist-packages),\n",
              " beautifulsoup4 4.6.3 (/usr/local/lib/python3.6/dist-packages),\n",
              " backcall 0.2.0 (/usr/local/lib/python3.6/dist-packages),\n",
              " Babel 2.8.0 (/usr/local/lib/python3.6/dist-packages),\n",
              " autograd 1.3 (/usr/local/lib/python3.6/dist-packages),\n",
              " audioread 2.1.8 (/usr/local/lib/python3.6/dist-packages),\n",
              " attrs 19.3.0 (/usr/local/lib/python3.6/dist-packages),\n",
              " atomicwrites 1.4.0 (/usr/local/lib/python3.6/dist-packages),\n",
              " atari-py 0.2.6 (/usr/local/lib/python3.6/dist-packages),\n",
              " astunparse 1.6.3 (/usr/local/lib/python3.6/dist-packages),\n",
              " astropy 4.0.1.post1 (/usr/local/lib/python3.6/dist-packages),\n",
              " astor 0.8.1 (/usr/local/lib/python3.6/dist-packages),\n",
              " asgiref 3.2.10 (/usr/local/lib/python3.6/dist-packages),\n",
              " altair 4.1.0 (/usr/local/lib/python3.6/dist-packages),\n",
              " albumentations 0.1.12 (/usr/local/lib/python3.6/dist-packages),\n",
              " alabaster 0.7.12 (/usr/local/lib/python3.6/dist-packages),\n",
              " absl-py 0.9.0 (/usr/local/lib/python3.6/dist-packages),\n",
              " xkit 0.0.0 (/usr/lib/python3/dist-packages),\n",
              " screen-resolution-extra 0.0.0 (/usr/lib/python3/dist-packages),\n",
              " python-apt 1.6.5+ubuntu0.3 (/usr/lib/python3/dist-packages),\n",
              " pygobject 3.26.1 (/usr/lib/python3/dist-packages),\n",
              " GDAL 2.2.2 (/usr/lib/python3/dist-packages)]"
            ]
          },
          "metadata": {
            "tags": []
          },
          "execution_count": 3
        }
      ]
    },
    {
      "cell_type": "code",
      "metadata": {
        "id": "a9wEXuXNRuQP"
      },
      "source": [
        "dataset1 = pd.read_csv('/content/drive/My Drive/Colab Notebooks/201901-202003.csv')\n",
        "data = pd.DataFrame(dataset1)"
      ],
      "execution_count": null,
      "outputs": []
    },
    {
      "cell_type": "code",
      "metadata": {
        "id": "gca9O7daV7TZ"
      },
      "source": [
        "dataset2 = pd.read_csv('/content/drive/My Drive/Colab Notebooks/202004.csv')\n",
        "data1 = pd.DataFrame(dataset2)"
      ],
      "execution_count": null,
      "outputs": []
    },
    {
      "cell_type": "code",
      "metadata": {
        "id": "DzBqTgEOKtv9",
        "colab": {
          "base_uri": "https://localhost:8080/",
          "height": 534
        },
        "outputId": "439df207-f9b8-473f-a343-78bcd42a2981"
      },
      "source": [
        "data.head(10)"
      ],
      "execution_count": null,
      "outputs": [
        {
          "output_type": "execute_result",
          "data": {
            "text/html": [
              "<div>\n",
              "<style scoped>\n",
              "    .dataframe tbody tr th:only-of-type {\n",
              "        vertical-align: middle;\n",
              "    }\n",
              "\n",
              "    .dataframe tbody tr th {\n",
              "        vertical-align: top;\n",
              "    }\n",
              "\n",
              "    .dataframe thead th {\n",
              "        text-align: right;\n",
              "    }\n",
              "</style>\n",
              "<table border=\"1\" class=\"dataframe\">\n",
              "  <thead>\n",
              "    <tr style=\"text-align: right;\">\n",
              "      <th></th>\n",
              "      <th>REG_YYMM</th>\n",
              "      <th>CARD_SIDO_NM</th>\n",
              "      <th>CARD_CCG_NM</th>\n",
              "      <th>STD_CLSS_NM</th>\n",
              "      <th>HOM_SIDO_NM</th>\n",
              "      <th>HOM_CCG_NM</th>\n",
              "      <th>AGE</th>\n",
              "      <th>SEX_CTGO_CD</th>\n",
              "      <th>FLC</th>\n",
              "      <th>CSTMR_CNT</th>\n",
              "      <th>AMT</th>\n",
              "      <th>CNT</th>\n",
              "    </tr>\n",
              "  </thead>\n",
              "  <tbody>\n",
              "    <tr>\n",
              "      <th>0</th>\n",
              "      <td>201901</td>\n",
              "      <td>강원</td>\n",
              "      <td>강릉시</td>\n",
              "      <td>건강보조식품 소매업</td>\n",
              "      <td>강원</td>\n",
              "      <td>강릉시</td>\n",
              "      <td>20s</td>\n",
              "      <td>1</td>\n",
              "      <td>1</td>\n",
              "      <td>4</td>\n",
              "      <td>311200</td>\n",
              "      <td>4</td>\n",
              "    </tr>\n",
              "    <tr>\n",
              "      <th>1</th>\n",
              "      <td>201901</td>\n",
              "      <td>강원</td>\n",
              "      <td>강릉시</td>\n",
              "      <td>건강보조식품 소매업</td>\n",
              "      <td>강원</td>\n",
              "      <td>강릉시</td>\n",
              "      <td>30s</td>\n",
              "      <td>1</td>\n",
              "      <td>2</td>\n",
              "      <td>7</td>\n",
              "      <td>1374500</td>\n",
              "      <td>8</td>\n",
              "    </tr>\n",
              "    <tr>\n",
              "      <th>2</th>\n",
              "      <td>201901</td>\n",
              "      <td>강원</td>\n",
              "      <td>강릉시</td>\n",
              "      <td>건강보조식품 소매업</td>\n",
              "      <td>강원</td>\n",
              "      <td>강릉시</td>\n",
              "      <td>30s</td>\n",
              "      <td>2</td>\n",
              "      <td>2</td>\n",
              "      <td>6</td>\n",
              "      <td>818700</td>\n",
              "      <td>6</td>\n",
              "    </tr>\n",
              "    <tr>\n",
              "      <th>3</th>\n",
              "      <td>201901</td>\n",
              "      <td>강원</td>\n",
              "      <td>강릉시</td>\n",
              "      <td>건강보조식품 소매업</td>\n",
              "      <td>강원</td>\n",
              "      <td>강릉시</td>\n",
              "      <td>40s</td>\n",
              "      <td>1</td>\n",
              "      <td>3</td>\n",
              "      <td>4</td>\n",
              "      <td>1717000</td>\n",
              "      <td>5</td>\n",
              "    </tr>\n",
              "    <tr>\n",
              "      <th>4</th>\n",
              "      <td>201901</td>\n",
              "      <td>강원</td>\n",
              "      <td>강릉시</td>\n",
              "      <td>건강보조식품 소매업</td>\n",
              "      <td>강원</td>\n",
              "      <td>강릉시</td>\n",
              "      <td>40s</td>\n",
              "      <td>1</td>\n",
              "      <td>4</td>\n",
              "      <td>3</td>\n",
              "      <td>1047300</td>\n",
              "      <td>3</td>\n",
              "    </tr>\n",
              "    <tr>\n",
              "      <th>5</th>\n",
              "      <td>201901</td>\n",
              "      <td>강원</td>\n",
              "      <td>강릉시</td>\n",
              "      <td>건강보조식품 소매업</td>\n",
              "      <td>강원</td>\n",
              "      <td>강릉시</td>\n",
              "      <td>40s</td>\n",
              "      <td>2</td>\n",
              "      <td>3</td>\n",
              "      <td>7</td>\n",
              "      <td>627500</td>\n",
              "      <td>7</td>\n",
              "    </tr>\n",
              "    <tr>\n",
              "      <th>6</th>\n",
              "      <td>201901</td>\n",
              "      <td>강원</td>\n",
              "      <td>강릉시</td>\n",
              "      <td>건강보조식품 소매업</td>\n",
              "      <td>강원</td>\n",
              "      <td>강릉시</td>\n",
              "      <td>50s</td>\n",
              "      <td>1</td>\n",
              "      <td>4</td>\n",
              "      <td>21</td>\n",
              "      <td>3690830</td>\n",
              "      <td>21</td>\n",
              "    </tr>\n",
              "    <tr>\n",
              "      <th>7</th>\n",
              "      <td>201901</td>\n",
              "      <td>강원</td>\n",
              "      <td>강릉시</td>\n",
              "      <td>건강보조식품 소매업</td>\n",
              "      <td>강원</td>\n",
              "      <td>강릉시</td>\n",
              "      <td>50s</td>\n",
              "      <td>2</td>\n",
              "      <td>4</td>\n",
              "      <td>21</td>\n",
              "      <td>3573300</td>\n",
              "      <td>20</td>\n",
              "    </tr>\n",
              "    <tr>\n",
              "      <th>8</th>\n",
              "      <td>201901</td>\n",
              "      <td>강원</td>\n",
              "      <td>강릉시</td>\n",
              "      <td>건강보조식품 소매업</td>\n",
              "      <td>강원</td>\n",
              "      <td>강릉시</td>\n",
              "      <td>60s</td>\n",
              "      <td>1</td>\n",
              "      <td>5</td>\n",
              "      <td>19</td>\n",
              "      <td>1433500</td>\n",
              "      <td>20</td>\n",
              "    </tr>\n",
              "    <tr>\n",
              "      <th>9</th>\n",
              "      <td>201901</td>\n",
              "      <td>강원</td>\n",
              "      <td>강릉시</td>\n",
              "      <td>건강보조식품 소매업</td>\n",
              "      <td>강원</td>\n",
              "      <td>강릉시</td>\n",
              "      <td>60s</td>\n",
              "      <td>2</td>\n",
              "      <td>5</td>\n",
              "      <td>33</td>\n",
              "      <td>7194600</td>\n",
              "      <td>40</td>\n",
              "    </tr>\n",
              "  </tbody>\n",
              "</table>\n",
              "</div>"
            ],
            "text/plain": [
              "   REG_YYMM CARD_SIDO_NM CARD_CCG_NM STD_CLSS_NM  ... FLC CSTMR_CNT      AMT  CNT\n",
              "0    201901           강원         강릉시  건강보조식품 소매업  ...   1         4   311200    4\n",
              "1    201901           강원         강릉시  건강보조식품 소매업  ...   2         7  1374500    8\n",
              "2    201901           강원         강릉시  건강보조식품 소매업  ...   2         6   818700    6\n",
              "3    201901           강원         강릉시  건강보조식품 소매업  ...   3         4  1717000    5\n",
              "4    201901           강원         강릉시  건강보조식품 소매업  ...   4         3  1047300    3\n",
              "5    201901           강원         강릉시  건강보조식품 소매업  ...   3         7   627500    7\n",
              "6    201901           강원         강릉시  건강보조식품 소매업  ...   4        21  3690830   21\n",
              "7    201901           강원         강릉시  건강보조식품 소매업  ...   4        21  3573300   20\n",
              "8    201901           강원         강릉시  건강보조식품 소매업  ...   5        19  1433500   20\n",
              "9    201901           강원         강릉시  건강보조식품 소매업  ...   5        33  7194600   40\n",
              "\n",
              "[10 rows x 12 columns]"
            ]
          },
          "metadata": {
            "tags": []
          },
          "execution_count": 137
        }
      ]
    },
    {
      "cell_type": "code",
      "metadata": {
        "id": "1yuzcGEeWB2v",
        "colab": {
          "base_uri": "https://localhost:8080/",
          "height": 501
        },
        "outputId": "7cddd956-735a-4cf8-cb02-555440aa2a57"
      },
      "source": [
        "data1.head(10)"
      ],
      "execution_count": null,
      "outputs": [
        {
          "output_type": "execute_result",
          "data": {
            "text/html": [
              "<div>\n",
              "<style scoped>\n",
              "    .dataframe tbody tr th:only-of-type {\n",
              "        vertical-align: middle;\n",
              "    }\n",
              "\n",
              "    .dataframe tbody tr th {\n",
              "        vertical-align: top;\n",
              "    }\n",
              "\n",
              "    .dataframe thead th {\n",
              "        text-align: right;\n",
              "    }\n",
              "</style>\n",
              "<table border=\"1\" class=\"dataframe\">\n",
              "  <thead>\n",
              "    <tr style=\"text-align: right;\">\n",
              "      <th></th>\n",
              "      <th>REG_YYMM</th>\n",
              "      <th>CARD_SIDO_NM</th>\n",
              "      <th>CARD_CCG_NM</th>\n",
              "      <th>STD_CLSS_NM</th>\n",
              "      <th>HOM_SIDO_NM</th>\n",
              "      <th>HOM_CCG_NM</th>\n",
              "      <th>AGE</th>\n",
              "      <th>SEX_CTGO_CD</th>\n",
              "      <th>FLC</th>\n",
              "      <th>CSTMR_CNT</th>\n",
              "      <th>AMT</th>\n",
              "      <th>CNT</th>\n",
              "    </tr>\n",
              "  </thead>\n",
              "  <tbody>\n",
              "    <tr>\n",
              "      <th>0</th>\n",
              "      <td>202004</td>\n",
              "      <td>강원</td>\n",
              "      <td>강릉시</td>\n",
              "      <td>건강보조식품 소매업</td>\n",
              "      <td>강원</td>\n",
              "      <td>강릉시</td>\n",
              "      <td>40s</td>\n",
              "      <td>1</td>\n",
              "      <td>3</td>\n",
              "      <td>3</td>\n",
              "      <td>779600</td>\n",
              "      <td>4</td>\n",
              "    </tr>\n",
              "    <tr>\n",
              "      <th>1</th>\n",
              "      <td>202004</td>\n",
              "      <td>강원</td>\n",
              "      <td>강릉시</td>\n",
              "      <td>건강보조식품 소매업</td>\n",
              "      <td>강원</td>\n",
              "      <td>강릉시</td>\n",
              "      <td>40s</td>\n",
              "      <td>2</td>\n",
              "      <td>3</td>\n",
              "      <td>14</td>\n",
              "      <td>2427700</td>\n",
              "      <td>15</td>\n",
              "    </tr>\n",
              "    <tr>\n",
              "      <th>2</th>\n",
              "      <td>202004</td>\n",
              "      <td>강원</td>\n",
              "      <td>강릉시</td>\n",
              "      <td>건강보조식품 소매업</td>\n",
              "      <td>강원</td>\n",
              "      <td>강릉시</td>\n",
              "      <td>50s</td>\n",
              "      <td>1</td>\n",
              "      <td>4</td>\n",
              "      <td>18</td>\n",
              "      <td>2184600</td>\n",
              "      <td>18</td>\n",
              "    </tr>\n",
              "    <tr>\n",
              "      <th>3</th>\n",
              "      <td>202004</td>\n",
              "      <td>강원</td>\n",
              "      <td>강릉시</td>\n",
              "      <td>건강보조식품 소매업</td>\n",
              "      <td>강원</td>\n",
              "      <td>강릉시</td>\n",
              "      <td>50s</td>\n",
              "      <td>2</td>\n",
              "      <td>4</td>\n",
              "      <td>21</td>\n",
              "      <td>3653100</td>\n",
              "      <td>23</td>\n",
              "    </tr>\n",
              "    <tr>\n",
              "      <th>4</th>\n",
              "      <td>202004</td>\n",
              "      <td>강원</td>\n",
              "      <td>강릉시</td>\n",
              "      <td>건강보조식품 소매업</td>\n",
              "      <td>강원</td>\n",
              "      <td>강릉시</td>\n",
              "      <td>60s</td>\n",
              "      <td>1</td>\n",
              "      <td>5</td>\n",
              "      <td>15</td>\n",
              "      <td>2765500</td>\n",
              "      <td>18</td>\n",
              "    </tr>\n",
              "    <tr>\n",
              "      <th>5</th>\n",
              "      <td>202004</td>\n",
              "      <td>강원</td>\n",
              "      <td>강릉시</td>\n",
              "      <td>건강보조식품 소매업</td>\n",
              "      <td>강원</td>\n",
              "      <td>강릉시</td>\n",
              "      <td>60s</td>\n",
              "      <td>2</td>\n",
              "      <td>5</td>\n",
              "      <td>22</td>\n",
              "      <td>6754600</td>\n",
              "      <td>24</td>\n",
              "    </tr>\n",
              "    <tr>\n",
              "      <th>6</th>\n",
              "      <td>202004</td>\n",
              "      <td>강원</td>\n",
              "      <td>강릉시</td>\n",
              "      <td>건강보조식품 소매업</td>\n",
              "      <td>강원</td>\n",
              "      <td>강릉시</td>\n",
              "      <td>70s</td>\n",
              "      <td>1</td>\n",
              "      <td>5</td>\n",
              "      <td>5</td>\n",
              "      <td>675000</td>\n",
              "      <td>5</td>\n",
              "    </tr>\n",
              "    <tr>\n",
              "      <th>7</th>\n",
              "      <td>202004</td>\n",
              "      <td>강원</td>\n",
              "      <td>강릉시</td>\n",
              "      <td>건강보조식품 소매업</td>\n",
              "      <td>강원</td>\n",
              "      <td>강릉시</td>\n",
              "      <td>70s</td>\n",
              "      <td>2</td>\n",
              "      <td>5</td>\n",
              "      <td>9</td>\n",
              "      <td>1011000</td>\n",
              "      <td>9</td>\n",
              "    </tr>\n",
              "    <tr>\n",
              "      <th>8</th>\n",
              "      <td>202004</td>\n",
              "      <td>강원</td>\n",
              "      <td>강릉시</td>\n",
              "      <td>골프장 운영업</td>\n",
              "      <td>강원</td>\n",
              "      <td>강릉시</td>\n",
              "      <td>30s</td>\n",
              "      <td>1</td>\n",
              "      <td>2</td>\n",
              "      <td>16</td>\n",
              "      <td>1966600</td>\n",
              "      <td>19</td>\n",
              "    </tr>\n",
              "    <tr>\n",
              "      <th>9</th>\n",
              "      <td>202004</td>\n",
              "      <td>강원</td>\n",
              "      <td>강릉시</td>\n",
              "      <td>골프장 운영업</td>\n",
              "      <td>강원</td>\n",
              "      <td>강릉시</td>\n",
              "      <td>40s</td>\n",
              "      <td>1</td>\n",
              "      <td>3</td>\n",
              "      <td>37</td>\n",
              "      <td>8016500</td>\n",
              "      <td>62</td>\n",
              "    </tr>\n",
              "  </tbody>\n",
              "</table>\n",
              "</div>"
            ],
            "text/plain": [
              "   REG_YYMM CARD_SIDO_NM CARD_CCG_NM STD_CLSS_NM  ... FLC CSTMR_CNT      AMT  CNT\n",
              "0    202004           강원         강릉시  건강보조식품 소매업  ...   3         3   779600    4\n",
              "1    202004           강원         강릉시  건강보조식품 소매업  ...   3        14  2427700   15\n",
              "2    202004           강원         강릉시  건강보조식품 소매업  ...   4        18  2184600   18\n",
              "3    202004           강원         강릉시  건강보조식품 소매업  ...   4        21  3653100   23\n",
              "4    202004           강원         강릉시  건강보조식품 소매업  ...   5        15  2765500   18\n",
              "5    202004           강원         강릉시  건강보조식품 소매업  ...   5        22  6754600   24\n",
              "6    202004           강원         강릉시  건강보조식품 소매업  ...   5         5   675000    5\n",
              "7    202004           강원         강릉시  건강보조식품 소매업  ...   5         9  1011000    9\n",
              "8    202004           강원         강릉시     골프장 운영업  ...   2        16  1966600   19\n",
              "9    202004           강원         강릉시     골프장 운영업  ...   3        37  8016500   62\n",
              "\n",
              "[10 rows x 12 columns]"
            ]
          },
          "metadata": {
            "tags": []
          },
          "execution_count": 138
        }
      ]
    },
    {
      "cell_type": "code",
      "metadata": {
        "id": "3WJgmpj2KtwH",
        "colab": {
          "base_uri": "https://localhost:8080/",
          "height": 497
        },
        "outputId": "7cc45927-fd09-4867-ad09-c77ec136d937"
      },
      "source": [
        "'''\n",
        "월별 전체 총합 데이터 (Top Level)\n",
        "'''\n",
        " \n",
        "data_sum = data.groupby('REG_YYMM')['AMT'].sum().reset_index()\n",
        "data_sum"
      ],
      "execution_count": null,
      "outputs": [
        {
          "output_type": "execute_result",
          "data": {
            "text/html": [
              "<div>\n",
              "<style scoped>\n",
              "    .dataframe tbody tr th:only-of-type {\n",
              "        vertical-align: middle;\n",
              "    }\n",
              "\n",
              "    .dataframe tbody tr th {\n",
              "        vertical-align: top;\n",
              "    }\n",
              "\n",
              "    .dataframe thead th {\n",
              "        text-align: right;\n",
              "    }\n",
              "</style>\n",
              "<table border=\"1\" class=\"dataframe\">\n",
              "  <thead>\n",
              "    <tr style=\"text-align: right;\">\n",
              "      <th></th>\n",
              "      <th>REG_YYMM</th>\n",
              "      <th>AMT</th>\n",
              "    </tr>\n",
              "  </thead>\n",
              "  <tbody>\n",
              "    <tr>\n",
              "      <th>0</th>\n",
              "      <td>201901</td>\n",
              "      <td>4052317259025</td>\n",
              "    </tr>\n",
              "    <tr>\n",
              "      <th>1</th>\n",
              "      <td>201902</td>\n",
              "      <td>3634345832156</td>\n",
              "    </tr>\n",
              "    <tr>\n",
              "      <th>2</th>\n",
              "      <td>201903</td>\n",
              "      <td>4105409759731</td>\n",
              "    </tr>\n",
              "    <tr>\n",
              "      <th>3</th>\n",
              "      <td>201904</td>\n",
              "      <td>4006698507386</td>\n",
              "    </tr>\n",
              "    <tr>\n",
              "      <th>4</th>\n",
              "      <td>201905</td>\n",
              "      <td>4345471235813</td>\n",
              "    </tr>\n",
              "    <tr>\n",
              "      <th>5</th>\n",
              "      <td>201906</td>\n",
              "      <td>4122105394194</td>\n",
              "    </tr>\n",
              "    <tr>\n",
              "      <th>6</th>\n",
              "      <td>201907</td>\n",
              "      <td>4187299694709</td>\n",
              "    </tr>\n",
              "    <tr>\n",
              "      <th>7</th>\n",
              "      <td>201908</td>\n",
              "      <td>4268655968810</td>\n",
              "    </tr>\n",
              "    <tr>\n",
              "      <th>8</th>\n",
              "      <td>201909</td>\n",
              "      <td>4123348058794</td>\n",
              "    </tr>\n",
              "    <tr>\n",
              "      <th>9</th>\n",
              "      <td>201910</td>\n",
              "      <td>4176583723584</td>\n",
              "    </tr>\n",
              "    <tr>\n",
              "      <th>10</th>\n",
              "      <td>201911</td>\n",
              "      <td>4047721898575</td>\n",
              "    </tr>\n",
              "    <tr>\n",
              "      <th>11</th>\n",
              "      <td>201912</td>\n",
              "      <td>4292549731776</td>\n",
              "    </tr>\n",
              "    <tr>\n",
              "      <th>12</th>\n",
              "      <td>202001</td>\n",
              "      <td>4124940612820</td>\n",
              "    </tr>\n",
              "    <tr>\n",
              "      <th>13</th>\n",
              "      <td>202002</td>\n",
              "      <td>3370694945536</td>\n",
              "    </tr>\n",
              "    <tr>\n",
              "      <th>14</th>\n",
              "      <td>202003</td>\n",
              "      <td>3437884426097</td>\n",
              "    </tr>\n",
              "  </tbody>\n",
              "</table>\n",
              "</div>"
            ],
            "text/plain": [
              "    REG_YYMM            AMT\n",
              "0     201901  4052317259025\n",
              "1     201902  3634345832156\n",
              "2     201903  4105409759731\n",
              "3     201904  4006698507386\n",
              "4     201905  4345471235813\n",
              "5     201906  4122105394194\n",
              "6     201907  4187299694709\n",
              "7     201908  4268655968810\n",
              "8     201909  4123348058794\n",
              "9     201910  4176583723584\n",
              "10    201911  4047721898575\n",
              "11    201912  4292549731776\n",
              "12    202001  4124940612820\n",
              "13    202002  3370694945536\n",
              "14    202003  3437884426097"
            ]
          },
          "metadata": {
            "tags": []
          },
          "execution_count": 139
        }
      ]
    },
    {
      "cell_type": "code",
      "metadata": {
        "id": "ATLxrY-KKtwQ"
      },
      "source": [
        "data_ex = data_sum.copy()"
      ],
      "execution_count": null,
      "outputs": []
    },
    {
      "cell_type": "code",
      "metadata": {
        "id": "LA8DHlwwWFw_",
        "colab": {
          "base_uri": "https://localhost:8080/",
          "height": 77
        },
        "outputId": "ad662e13-ab8c-4ef7-bd01-8be6abd55581"
      },
      "source": [
        "'''\n",
        "4월 전체 총합 데이터 (Top Level)\n",
        "'''\n",
        " \n",
        "data_sum1 = data1.groupby('REG_YYMM')['AMT'].sum().reset_index()\n",
        "data_sum1"
      ],
      "execution_count": null,
      "outputs": [
        {
          "output_type": "execute_result",
          "data": {
            "text/html": [
              "<div>\n",
              "<style scoped>\n",
              "    .dataframe tbody tr th:only-of-type {\n",
              "        vertical-align: middle;\n",
              "    }\n",
              "\n",
              "    .dataframe tbody tr th {\n",
              "        vertical-align: top;\n",
              "    }\n",
              "\n",
              "    .dataframe thead th {\n",
              "        text-align: right;\n",
              "    }\n",
              "</style>\n",
              "<table border=\"1\" class=\"dataframe\">\n",
              "  <thead>\n",
              "    <tr style=\"text-align: right;\">\n",
              "      <th></th>\n",
              "      <th>REG_YYMM</th>\n",
              "      <th>AMT</th>\n",
              "    </tr>\n",
              "  </thead>\n",
              "  <tbody>\n",
              "    <tr>\n",
              "      <th>0</th>\n",
              "      <td>202004</td>\n",
              "      <td>3542539370072</td>\n",
              "    </tr>\n",
              "  </tbody>\n",
              "</table>\n",
              "</div>"
            ],
            "text/plain": [
              "   REG_YYMM            AMT\n",
              "0    202004  3542539370072"
            ]
          },
          "metadata": {
            "tags": []
          },
          "execution_count": 141
        }
      ]
    },
    {
      "cell_type": "code",
      "metadata": {
        "id": "rduCqq7-KtwY",
        "colab": {
          "base_uri": "https://localhost:8080/",
          "height": 34
        },
        "outputId": "532ff479-952f-48f0-aecf-95e8a55bb9af"
      },
      "source": [
        "'''\n",
        "year\n",
        "\n",
        "instead put numbering\n",
        "\n",
        "month : to express cyclic\n",
        "'''"
      ],
      "execution_count": null,
      "outputs": [
        {
          "output_type": "execute_result",
          "data": {
            "application/vnd.google.colaboratory.intrinsic+json": {
              "type": "string"
            },
            "text/plain": [
              "'\\nyear\\n\\ninstead put numbering\\n\\nmonth : to express cyclic\\n'"
            ]
          },
          "metadata": {
            "tags": []
          },
          "execution_count": 142
        }
      ]
    },
    {
      "cell_type": "code",
      "metadata": {
        "id": "uyfO-QiGKtwh"
      },
      "source": [
        "data_ex.insert(1, 'index',0)\n",
        "data_ex.insert(2, 'year',0)\n",
        "data_ex.insert(3, 'month',0)"
      ],
      "execution_count": null,
      "outputs": []
    },
    {
      "cell_type": "code",
      "metadata": {
        "id": "fZuIdstLKtw0"
      },
      "source": [
        "for i in range(0,len(data_ex)):\n",
        "    data_ex['index'][i] = i+1"
      ],
      "execution_count": null,
      "outputs": []
    },
    {
      "cell_type": "code",
      "metadata": {
        "id": "snNZ8-OQKtw6"
      },
      "source": [
        "data_ex['year'] = [1 if i > 12 else 0 for i in data_ex['index']]"
      ],
      "execution_count": null,
      "outputs": []
    },
    {
      "cell_type": "code",
      "metadata": {
        "id": "YeIJP5SBKtxA"
      },
      "source": [
        "for i in range(0,len(data_ex)):\n",
        "    data_ex['month'][i] = int(str(data_ex['REG_YYMM'][i])[4:6])"
      ],
      "execution_count": null,
      "outputs": []
    },
    {
      "cell_type": "code",
      "metadata": {
        "id": "8eKwAvoKKtxI"
      },
      "source": [
        "data_ex.drop('REG_YYMM', axis=1, inplace=True)"
      ],
      "execution_count": null,
      "outputs": []
    },
    {
      "cell_type": "code",
      "metadata": {
        "id": "EOKjfODkKtxP",
        "colab": {
          "base_uri": "https://localhost:8080/",
          "height": 497
        },
        "outputId": "8a2b6a66-b9e3-4ac5-b4b3-1a120dba6680"
      },
      "source": [
        "data_ex"
      ],
      "execution_count": null,
      "outputs": [
        {
          "output_type": "execute_result",
          "data": {
            "text/html": [
              "<div>\n",
              "<style scoped>\n",
              "    .dataframe tbody tr th:only-of-type {\n",
              "        vertical-align: middle;\n",
              "    }\n",
              "\n",
              "    .dataframe tbody tr th {\n",
              "        vertical-align: top;\n",
              "    }\n",
              "\n",
              "    .dataframe thead th {\n",
              "        text-align: right;\n",
              "    }\n",
              "</style>\n",
              "<table border=\"1\" class=\"dataframe\">\n",
              "  <thead>\n",
              "    <tr style=\"text-align: right;\">\n",
              "      <th></th>\n",
              "      <th>index</th>\n",
              "      <th>year</th>\n",
              "      <th>month</th>\n",
              "      <th>AMT</th>\n",
              "    </tr>\n",
              "  </thead>\n",
              "  <tbody>\n",
              "    <tr>\n",
              "      <th>0</th>\n",
              "      <td>1</td>\n",
              "      <td>0</td>\n",
              "      <td>1</td>\n",
              "      <td>4052317259025</td>\n",
              "    </tr>\n",
              "    <tr>\n",
              "      <th>1</th>\n",
              "      <td>2</td>\n",
              "      <td>0</td>\n",
              "      <td>2</td>\n",
              "      <td>3634345832156</td>\n",
              "    </tr>\n",
              "    <tr>\n",
              "      <th>2</th>\n",
              "      <td>3</td>\n",
              "      <td>0</td>\n",
              "      <td>3</td>\n",
              "      <td>4105409759731</td>\n",
              "    </tr>\n",
              "    <tr>\n",
              "      <th>3</th>\n",
              "      <td>4</td>\n",
              "      <td>0</td>\n",
              "      <td>4</td>\n",
              "      <td>4006698507386</td>\n",
              "    </tr>\n",
              "    <tr>\n",
              "      <th>4</th>\n",
              "      <td>5</td>\n",
              "      <td>0</td>\n",
              "      <td>5</td>\n",
              "      <td>4345471235813</td>\n",
              "    </tr>\n",
              "    <tr>\n",
              "      <th>5</th>\n",
              "      <td>6</td>\n",
              "      <td>0</td>\n",
              "      <td>6</td>\n",
              "      <td>4122105394194</td>\n",
              "    </tr>\n",
              "    <tr>\n",
              "      <th>6</th>\n",
              "      <td>7</td>\n",
              "      <td>0</td>\n",
              "      <td>7</td>\n",
              "      <td>4187299694709</td>\n",
              "    </tr>\n",
              "    <tr>\n",
              "      <th>7</th>\n",
              "      <td>8</td>\n",
              "      <td>0</td>\n",
              "      <td>8</td>\n",
              "      <td>4268655968810</td>\n",
              "    </tr>\n",
              "    <tr>\n",
              "      <th>8</th>\n",
              "      <td>9</td>\n",
              "      <td>0</td>\n",
              "      <td>9</td>\n",
              "      <td>4123348058794</td>\n",
              "    </tr>\n",
              "    <tr>\n",
              "      <th>9</th>\n",
              "      <td>10</td>\n",
              "      <td>0</td>\n",
              "      <td>10</td>\n",
              "      <td>4176583723584</td>\n",
              "    </tr>\n",
              "    <tr>\n",
              "      <th>10</th>\n",
              "      <td>11</td>\n",
              "      <td>0</td>\n",
              "      <td>11</td>\n",
              "      <td>4047721898575</td>\n",
              "    </tr>\n",
              "    <tr>\n",
              "      <th>11</th>\n",
              "      <td>12</td>\n",
              "      <td>0</td>\n",
              "      <td>12</td>\n",
              "      <td>4292549731776</td>\n",
              "    </tr>\n",
              "    <tr>\n",
              "      <th>12</th>\n",
              "      <td>13</td>\n",
              "      <td>1</td>\n",
              "      <td>1</td>\n",
              "      <td>4124940612820</td>\n",
              "    </tr>\n",
              "    <tr>\n",
              "      <th>13</th>\n",
              "      <td>14</td>\n",
              "      <td>1</td>\n",
              "      <td>2</td>\n",
              "      <td>3370694945536</td>\n",
              "    </tr>\n",
              "    <tr>\n",
              "      <th>14</th>\n",
              "      <td>15</td>\n",
              "      <td>1</td>\n",
              "      <td>3</td>\n",
              "      <td>3437884426097</td>\n",
              "    </tr>\n",
              "  </tbody>\n",
              "</table>\n",
              "</div>"
            ],
            "text/plain": [
              "    index  year  month            AMT\n",
              "0       1     0      1  4052317259025\n",
              "1       2     0      2  3634345832156\n",
              "2       3     0      3  4105409759731\n",
              "3       4     0      4  4006698507386\n",
              "4       5     0      5  4345471235813\n",
              "5       6     0      6  4122105394194\n",
              "6       7     0      7  4187299694709\n",
              "7       8     0      8  4268655968810\n",
              "8       9     0      9  4123348058794\n",
              "9      10     0     10  4176583723584\n",
              "10     11     0     11  4047721898575\n",
              "11     12     0     12  4292549731776\n",
              "12     13     1      1  4124940612820\n",
              "13     14     1      2  3370694945536\n",
              "14     15     1      3  3437884426097"
            ]
          },
          "metadata": {
            "tags": []
          },
          "execution_count": 148
        }
      ]
    },
    {
      "cell_type": "code",
      "metadata": {
        "id": "ll1VYPPfXDz0",
        "colab": {
          "base_uri": "https://localhost:8080/",
          "height": 77
        },
        "outputId": "fd0639e0-cad6-40c0-a6eb-aac5d64ddeb4"
      },
      "source": [
        "data_sum1.insert(1, 'index',0)\n",
        "data_sum1.insert(2, 'year',0)\n",
        "data_sum1.insert(3, 'month',0)\n",
        "data_sum1['index']= 16\n",
        "data_sum1['year'] = 1\n",
        "data_sum1['month'] = 4\n",
        "data_sum1.drop('REG_YYMM', axis=1, inplace=True)\n",
        "data_sum1"
      ],
      "execution_count": null,
      "outputs": [
        {
          "output_type": "execute_result",
          "data": {
            "text/html": [
              "<div>\n",
              "<style scoped>\n",
              "    .dataframe tbody tr th:only-of-type {\n",
              "        vertical-align: middle;\n",
              "    }\n",
              "\n",
              "    .dataframe tbody tr th {\n",
              "        vertical-align: top;\n",
              "    }\n",
              "\n",
              "    .dataframe thead th {\n",
              "        text-align: right;\n",
              "    }\n",
              "</style>\n",
              "<table border=\"1\" class=\"dataframe\">\n",
              "  <thead>\n",
              "    <tr style=\"text-align: right;\">\n",
              "      <th></th>\n",
              "      <th>index</th>\n",
              "      <th>year</th>\n",
              "      <th>month</th>\n",
              "      <th>AMT</th>\n",
              "    </tr>\n",
              "  </thead>\n",
              "  <tbody>\n",
              "    <tr>\n",
              "      <th>0</th>\n",
              "      <td>16</td>\n",
              "      <td>1</td>\n",
              "      <td>4</td>\n",
              "      <td>3542539370072</td>\n",
              "    </tr>\n",
              "  </tbody>\n",
              "</table>\n",
              "</div>"
            ],
            "text/plain": [
              "   index  year  month            AMT\n",
              "0     16     1      4  3542539370072"
            ]
          },
          "metadata": {
            "tags": []
          },
          "execution_count": 149
        }
      ]
    },
    {
      "cell_type": "code",
      "metadata": {
        "id": "znMOIS5-KtxW",
        "colab": {
          "base_uri": "https://localhost:8080/",
          "height": 87
        },
        "outputId": "7e058f46-2fce-489c-85b8-b060f4d3810b"
      },
      "source": [
        "'''\n",
        "lag\n",
        "lag를 변수로 추가하여 regression 문제로 변환\n",
        "https://towardsdatascience.com/time-series-machine-learning-regression-framework-9ea33929009a\n",
        "\n",
        "예제에선 두개를 활용하여 차이까지 넣어서 적합시키고 있으나 관측치가 너무 적음\n",
        "\n",
        "19년 1월 같은 경우에는 19년 평균을 lag로 넣어서 임시로 보정해줄 것.\n",
        "\n",
        "중간값이나 이런 다른 걸로 보정해도 될듯\n",
        "\n",
        "1월 보다 낮은 숫자를 넣는게 그래프 상 좋아보이긴 함\n",
        "\n",
        "'''"
      ],
      "execution_count": null,
      "outputs": [
        {
          "output_type": "execute_result",
          "data": {
            "application/vnd.google.colaboratory.intrinsic+json": {
              "type": "string"
            },
            "text/plain": [
              "'\\nlag\\nlag를 변수로 추가하여 regression 문제로 변환\\nhttps://towardsdatascience.com/time-series-machine-learning-regression-framework-9ea33929009a\\n\\n예제에선 두개를 활용하여 차이까지 넣어서 적합시키고 있으나 관측치가 너무 적음\\n\\n19년 1월 같은 경우에는 19년 평균을 lag로 넣어서 임시로 보정해줄 것.\\n\\n중간값이나 이런 다른 걸로 보정해도 될듯\\n\\n1월 보다 낮은 숫자를 넣는게 그래프 상 좋아보이긴 함\\n\\n'"
            ]
          },
          "metadata": {
            "tags": []
          },
          "execution_count": 150
        }
      ]
    },
    {
      "cell_type": "code",
      "metadata": {
        "id": "9rhKvo03Ktxc"
      },
      "source": [
        "data_ex.insert(3, 'lag', 0)"
      ],
      "execution_count": null,
      "outputs": []
    },
    {
      "cell_type": "code",
      "metadata": {
        "id": "0kERvozMKtxj"
      },
      "source": [
        "for i in range(1,len(data_ex['lag'])):\n",
        "    data_ex['lag'][i] = data_ex['AMT'][i-1]"
      ],
      "execution_count": null,
      "outputs": []
    },
    {
      "cell_type": "code",
      "metadata": {
        "id": "dzM_QicdKtxp"
      },
      "source": [
        "mean = sum(data_ex['AMT'][:12]) / len(data_ex['AMT'][:12])\n",
        "data_ex['lag'][0] = mean"
      ],
      "execution_count": null,
      "outputs": []
    },
    {
      "cell_type": "code",
      "metadata": {
        "id": "pen8j6tPKtxw",
        "colab": {
          "base_uri": "https://localhost:8080/",
          "height": 497
        },
        "outputId": "94020870-adcb-4ce6-bec5-54f4f0862cb7"
      },
      "source": [
        "data_ex"
      ],
      "execution_count": null,
      "outputs": [
        {
          "output_type": "execute_result",
          "data": {
            "text/html": [
              "<div>\n",
              "<style scoped>\n",
              "    .dataframe tbody tr th:only-of-type {\n",
              "        vertical-align: middle;\n",
              "    }\n",
              "\n",
              "    .dataframe tbody tr th {\n",
              "        vertical-align: top;\n",
              "    }\n",
              "\n",
              "    .dataframe thead th {\n",
              "        text-align: right;\n",
              "    }\n",
              "</style>\n",
              "<table border=\"1\" class=\"dataframe\">\n",
              "  <thead>\n",
              "    <tr style=\"text-align: right;\">\n",
              "      <th></th>\n",
              "      <th>index</th>\n",
              "      <th>year</th>\n",
              "      <th>month</th>\n",
              "      <th>lag</th>\n",
              "      <th>AMT</th>\n",
              "    </tr>\n",
              "  </thead>\n",
              "  <tbody>\n",
              "    <tr>\n",
              "      <th>0</th>\n",
              "      <td>1</td>\n",
              "      <td>0</td>\n",
              "      <td>1</td>\n",
              "      <td>4113542255379</td>\n",
              "      <td>4052317259025</td>\n",
              "    </tr>\n",
              "    <tr>\n",
              "      <th>1</th>\n",
              "      <td>2</td>\n",
              "      <td>0</td>\n",
              "      <td>2</td>\n",
              "      <td>4052317259025</td>\n",
              "      <td>3634345832156</td>\n",
              "    </tr>\n",
              "    <tr>\n",
              "      <th>2</th>\n",
              "      <td>3</td>\n",
              "      <td>0</td>\n",
              "      <td>3</td>\n",
              "      <td>3634345832156</td>\n",
              "      <td>4105409759731</td>\n",
              "    </tr>\n",
              "    <tr>\n",
              "      <th>3</th>\n",
              "      <td>4</td>\n",
              "      <td>0</td>\n",
              "      <td>4</td>\n",
              "      <td>4105409759731</td>\n",
              "      <td>4006698507386</td>\n",
              "    </tr>\n",
              "    <tr>\n",
              "      <th>4</th>\n",
              "      <td>5</td>\n",
              "      <td>0</td>\n",
              "      <td>5</td>\n",
              "      <td>4006698507386</td>\n",
              "      <td>4345471235813</td>\n",
              "    </tr>\n",
              "    <tr>\n",
              "      <th>5</th>\n",
              "      <td>6</td>\n",
              "      <td>0</td>\n",
              "      <td>6</td>\n",
              "      <td>4345471235813</td>\n",
              "      <td>4122105394194</td>\n",
              "    </tr>\n",
              "    <tr>\n",
              "      <th>6</th>\n",
              "      <td>7</td>\n",
              "      <td>0</td>\n",
              "      <td>7</td>\n",
              "      <td>4122105394194</td>\n",
              "      <td>4187299694709</td>\n",
              "    </tr>\n",
              "    <tr>\n",
              "      <th>7</th>\n",
              "      <td>8</td>\n",
              "      <td>0</td>\n",
              "      <td>8</td>\n",
              "      <td>4187299694709</td>\n",
              "      <td>4268655968810</td>\n",
              "    </tr>\n",
              "    <tr>\n",
              "      <th>8</th>\n",
              "      <td>9</td>\n",
              "      <td>0</td>\n",
              "      <td>9</td>\n",
              "      <td>4268655968810</td>\n",
              "      <td>4123348058794</td>\n",
              "    </tr>\n",
              "    <tr>\n",
              "      <th>9</th>\n",
              "      <td>10</td>\n",
              "      <td>0</td>\n",
              "      <td>10</td>\n",
              "      <td>4123348058794</td>\n",
              "      <td>4176583723584</td>\n",
              "    </tr>\n",
              "    <tr>\n",
              "      <th>10</th>\n",
              "      <td>11</td>\n",
              "      <td>0</td>\n",
              "      <td>11</td>\n",
              "      <td>4176583723584</td>\n",
              "      <td>4047721898575</td>\n",
              "    </tr>\n",
              "    <tr>\n",
              "      <th>11</th>\n",
              "      <td>12</td>\n",
              "      <td>0</td>\n",
              "      <td>12</td>\n",
              "      <td>4047721898575</td>\n",
              "      <td>4292549731776</td>\n",
              "    </tr>\n",
              "    <tr>\n",
              "      <th>12</th>\n",
              "      <td>13</td>\n",
              "      <td>1</td>\n",
              "      <td>1</td>\n",
              "      <td>4292549731776</td>\n",
              "      <td>4124940612820</td>\n",
              "    </tr>\n",
              "    <tr>\n",
              "      <th>13</th>\n",
              "      <td>14</td>\n",
              "      <td>1</td>\n",
              "      <td>2</td>\n",
              "      <td>4124940612820</td>\n",
              "      <td>3370694945536</td>\n",
              "    </tr>\n",
              "    <tr>\n",
              "      <th>14</th>\n",
              "      <td>15</td>\n",
              "      <td>1</td>\n",
              "      <td>3</td>\n",
              "      <td>3370694945536</td>\n",
              "      <td>3437884426097</td>\n",
              "    </tr>\n",
              "  </tbody>\n",
              "</table>\n",
              "</div>"
            ],
            "text/plain": [
              "    index  year  month            lag            AMT\n",
              "0       1     0      1  4113542255379  4052317259025\n",
              "1       2     0      2  4052317259025  3634345832156\n",
              "2       3     0      3  3634345832156  4105409759731\n",
              "3       4     0      4  4105409759731  4006698507386\n",
              "4       5     0      5  4006698507386  4345471235813\n",
              "5       6     0      6  4345471235813  4122105394194\n",
              "6       7     0      7  4122105394194  4187299694709\n",
              "7       8     0      8  4187299694709  4268655968810\n",
              "8       9     0      9  4268655968810  4123348058794\n",
              "9      10     0     10  4123348058794  4176583723584\n",
              "10     11     0     11  4176583723584  4047721898575\n",
              "11     12     0     12  4047721898575  4292549731776\n",
              "12     13     1      1  4292549731776  4124940612820\n",
              "13     14     1      2  4124940612820  3370694945536\n",
              "14     15     1      3  3370694945536  3437884426097"
            ]
          },
          "metadata": {
            "tags": []
          },
          "execution_count": 154
        }
      ]
    },
    {
      "cell_type": "code",
      "metadata": {
        "id": "URfslFUdXIsP",
        "colab": {
          "base_uri": "https://localhost:8080/",
          "height": 77
        },
        "outputId": "aa4bd415-5fdf-4b39-ff87-d3bb6c6740b0"
      },
      "source": [
        "data_sum1.insert(3, 'lag', 0)\n",
        "data_sum1['lag'] = data_sum['AMT'][14]\n",
        "data_sum1"
      ],
      "execution_count": null,
      "outputs": [
        {
          "output_type": "execute_result",
          "data": {
            "text/html": [
              "<div>\n",
              "<style scoped>\n",
              "    .dataframe tbody tr th:only-of-type {\n",
              "        vertical-align: middle;\n",
              "    }\n",
              "\n",
              "    .dataframe tbody tr th {\n",
              "        vertical-align: top;\n",
              "    }\n",
              "\n",
              "    .dataframe thead th {\n",
              "        text-align: right;\n",
              "    }\n",
              "</style>\n",
              "<table border=\"1\" class=\"dataframe\">\n",
              "  <thead>\n",
              "    <tr style=\"text-align: right;\">\n",
              "      <th></th>\n",
              "      <th>index</th>\n",
              "      <th>year</th>\n",
              "      <th>month</th>\n",
              "      <th>lag</th>\n",
              "      <th>AMT</th>\n",
              "    </tr>\n",
              "  </thead>\n",
              "  <tbody>\n",
              "    <tr>\n",
              "      <th>0</th>\n",
              "      <td>16</td>\n",
              "      <td>1</td>\n",
              "      <td>4</td>\n",
              "      <td>3437884426097</td>\n",
              "      <td>3542539370072</td>\n",
              "    </tr>\n",
              "  </tbody>\n",
              "</table>\n",
              "</div>"
            ],
            "text/plain": [
              "   index  year  month            lag            AMT\n",
              "0     16     1      4  3437884426097  3542539370072"
            ]
          },
          "metadata": {
            "tags": []
          },
          "execution_count": 155
        }
      ]
    },
    {
      "cell_type": "code",
      "metadata": {
        "id": "-KMTDrjrXbKt",
        "colab": {
          "base_uri": "https://localhost:8080/",
          "height": 527
        },
        "outputId": "8ae9cf96-aeb8-4f18-e4fd-be01607bfd1f"
      },
      "source": [
        "data_lag = pd.concat([data_ex, data_sum1])\n",
        "data_lag.reset_index(drop=True, inplace=True)\n",
        "data_lag"
      ],
      "execution_count": null,
      "outputs": [
        {
          "output_type": "execute_result",
          "data": {
            "text/html": [
              "<div>\n",
              "<style scoped>\n",
              "    .dataframe tbody tr th:only-of-type {\n",
              "        vertical-align: middle;\n",
              "    }\n",
              "\n",
              "    .dataframe tbody tr th {\n",
              "        vertical-align: top;\n",
              "    }\n",
              "\n",
              "    .dataframe thead th {\n",
              "        text-align: right;\n",
              "    }\n",
              "</style>\n",
              "<table border=\"1\" class=\"dataframe\">\n",
              "  <thead>\n",
              "    <tr style=\"text-align: right;\">\n",
              "      <th></th>\n",
              "      <th>index</th>\n",
              "      <th>year</th>\n",
              "      <th>month</th>\n",
              "      <th>lag</th>\n",
              "      <th>AMT</th>\n",
              "    </tr>\n",
              "  </thead>\n",
              "  <tbody>\n",
              "    <tr>\n",
              "      <th>0</th>\n",
              "      <td>1</td>\n",
              "      <td>0</td>\n",
              "      <td>1</td>\n",
              "      <td>4113542255379</td>\n",
              "      <td>4052317259025</td>\n",
              "    </tr>\n",
              "    <tr>\n",
              "      <th>1</th>\n",
              "      <td>2</td>\n",
              "      <td>0</td>\n",
              "      <td>2</td>\n",
              "      <td>4052317259025</td>\n",
              "      <td>3634345832156</td>\n",
              "    </tr>\n",
              "    <tr>\n",
              "      <th>2</th>\n",
              "      <td>3</td>\n",
              "      <td>0</td>\n",
              "      <td>3</td>\n",
              "      <td>3634345832156</td>\n",
              "      <td>4105409759731</td>\n",
              "    </tr>\n",
              "    <tr>\n",
              "      <th>3</th>\n",
              "      <td>4</td>\n",
              "      <td>0</td>\n",
              "      <td>4</td>\n",
              "      <td>4105409759731</td>\n",
              "      <td>4006698507386</td>\n",
              "    </tr>\n",
              "    <tr>\n",
              "      <th>4</th>\n",
              "      <td>5</td>\n",
              "      <td>0</td>\n",
              "      <td>5</td>\n",
              "      <td>4006698507386</td>\n",
              "      <td>4345471235813</td>\n",
              "    </tr>\n",
              "    <tr>\n",
              "      <th>5</th>\n",
              "      <td>6</td>\n",
              "      <td>0</td>\n",
              "      <td>6</td>\n",
              "      <td>4345471235813</td>\n",
              "      <td>4122105394194</td>\n",
              "    </tr>\n",
              "    <tr>\n",
              "      <th>6</th>\n",
              "      <td>7</td>\n",
              "      <td>0</td>\n",
              "      <td>7</td>\n",
              "      <td>4122105394194</td>\n",
              "      <td>4187299694709</td>\n",
              "    </tr>\n",
              "    <tr>\n",
              "      <th>7</th>\n",
              "      <td>8</td>\n",
              "      <td>0</td>\n",
              "      <td>8</td>\n",
              "      <td>4187299694709</td>\n",
              "      <td>4268655968810</td>\n",
              "    </tr>\n",
              "    <tr>\n",
              "      <th>8</th>\n",
              "      <td>9</td>\n",
              "      <td>0</td>\n",
              "      <td>9</td>\n",
              "      <td>4268655968810</td>\n",
              "      <td>4123348058794</td>\n",
              "    </tr>\n",
              "    <tr>\n",
              "      <th>9</th>\n",
              "      <td>10</td>\n",
              "      <td>0</td>\n",
              "      <td>10</td>\n",
              "      <td>4123348058794</td>\n",
              "      <td>4176583723584</td>\n",
              "    </tr>\n",
              "    <tr>\n",
              "      <th>10</th>\n",
              "      <td>11</td>\n",
              "      <td>0</td>\n",
              "      <td>11</td>\n",
              "      <td>4176583723584</td>\n",
              "      <td>4047721898575</td>\n",
              "    </tr>\n",
              "    <tr>\n",
              "      <th>11</th>\n",
              "      <td>12</td>\n",
              "      <td>0</td>\n",
              "      <td>12</td>\n",
              "      <td>4047721898575</td>\n",
              "      <td>4292549731776</td>\n",
              "    </tr>\n",
              "    <tr>\n",
              "      <th>12</th>\n",
              "      <td>13</td>\n",
              "      <td>1</td>\n",
              "      <td>1</td>\n",
              "      <td>4292549731776</td>\n",
              "      <td>4124940612820</td>\n",
              "    </tr>\n",
              "    <tr>\n",
              "      <th>13</th>\n",
              "      <td>14</td>\n",
              "      <td>1</td>\n",
              "      <td>2</td>\n",
              "      <td>4124940612820</td>\n",
              "      <td>3370694945536</td>\n",
              "    </tr>\n",
              "    <tr>\n",
              "      <th>14</th>\n",
              "      <td>15</td>\n",
              "      <td>1</td>\n",
              "      <td>3</td>\n",
              "      <td>3370694945536</td>\n",
              "      <td>3437884426097</td>\n",
              "    </tr>\n",
              "    <tr>\n",
              "      <th>15</th>\n",
              "      <td>16</td>\n",
              "      <td>1</td>\n",
              "      <td>4</td>\n",
              "      <td>3437884426097</td>\n",
              "      <td>3542539370072</td>\n",
              "    </tr>\n",
              "  </tbody>\n",
              "</table>\n",
              "</div>"
            ],
            "text/plain": [
              "    index  year  month            lag            AMT\n",
              "0       1     0      1  4113542255379  4052317259025\n",
              "1       2     0      2  4052317259025  3634345832156\n",
              "2       3     0      3  3634345832156  4105409759731\n",
              "3       4     0      4  4105409759731  4006698507386\n",
              "4       5     0      5  4006698507386  4345471235813\n",
              "5       6     0      6  4345471235813  4122105394194\n",
              "6       7     0      7  4122105394194  4187299694709\n",
              "7       8     0      8  4187299694709  4268655968810\n",
              "8       9     0      9  4268655968810  4123348058794\n",
              "9      10     0     10  4123348058794  4176583723584\n",
              "10     11     0     11  4176583723584  4047721898575\n",
              "11     12     0     12  4047721898575  4292549731776\n",
              "12     13     1      1  4292549731776  4124940612820\n",
              "13     14     1      2  4124940612820  3370694945536\n",
              "14     15     1      3  3370694945536  3437884426097\n",
              "15     16     1      4  3437884426097  3542539370072"
            ]
          },
          "metadata": {
            "tags": []
          },
          "execution_count": 156
        }
      ]
    },
    {
      "cell_type": "code",
      "metadata": {
        "id": "idQHsN8EKtzW",
        "colab": {
          "base_uri": "https://localhost:8080/",
          "height": 34
        },
        "outputId": "0e34992e-b3ba-4cd7-adea-34d2ae628776"
      },
      "source": [
        "'''\n",
        "dummy!\n",
        "data_ex --> data_lag\n",
        "'''"
      ],
      "execution_count": null,
      "outputs": [
        {
          "output_type": "execute_result",
          "data": {
            "application/vnd.google.colaboratory.intrinsic+json": {
              "type": "string"
            },
            "text/plain": [
              "'\\ndummy!\\ndata_ex --> data_lag\\n'"
            ]
          },
          "metadata": {
            "tags": []
          },
          "execution_count": 157
        }
      ]
    },
    {
      "cell_type": "code",
      "metadata": {
        "id": "4Wd9eknffIpV",
        "colab": {
          "base_uri": "https://localhost:8080/",
          "height": 527
        },
        "outputId": "d578840c-3c72-47cb-b266-da3b8c80b6d1"
      },
      "source": [
        "data_temp = data_lag.copy()\n",
        "data_temp"
      ],
      "execution_count": null,
      "outputs": [
        {
          "output_type": "execute_result",
          "data": {
            "text/html": [
              "<div>\n",
              "<style scoped>\n",
              "    .dataframe tbody tr th:only-of-type {\n",
              "        vertical-align: middle;\n",
              "    }\n",
              "\n",
              "    .dataframe tbody tr th {\n",
              "        vertical-align: top;\n",
              "    }\n",
              "\n",
              "    .dataframe thead th {\n",
              "        text-align: right;\n",
              "    }\n",
              "</style>\n",
              "<table border=\"1\" class=\"dataframe\">\n",
              "  <thead>\n",
              "    <tr style=\"text-align: right;\">\n",
              "      <th></th>\n",
              "      <th>index</th>\n",
              "      <th>year</th>\n",
              "      <th>month</th>\n",
              "      <th>lag</th>\n",
              "      <th>AMT</th>\n",
              "    </tr>\n",
              "  </thead>\n",
              "  <tbody>\n",
              "    <tr>\n",
              "      <th>0</th>\n",
              "      <td>1</td>\n",
              "      <td>0</td>\n",
              "      <td>1</td>\n",
              "      <td>4113542255379</td>\n",
              "      <td>4052317259025</td>\n",
              "    </tr>\n",
              "    <tr>\n",
              "      <th>1</th>\n",
              "      <td>2</td>\n",
              "      <td>0</td>\n",
              "      <td>2</td>\n",
              "      <td>4052317259025</td>\n",
              "      <td>3634345832156</td>\n",
              "    </tr>\n",
              "    <tr>\n",
              "      <th>2</th>\n",
              "      <td>3</td>\n",
              "      <td>0</td>\n",
              "      <td>3</td>\n",
              "      <td>3634345832156</td>\n",
              "      <td>4105409759731</td>\n",
              "    </tr>\n",
              "    <tr>\n",
              "      <th>3</th>\n",
              "      <td>4</td>\n",
              "      <td>0</td>\n",
              "      <td>4</td>\n",
              "      <td>4105409759731</td>\n",
              "      <td>4006698507386</td>\n",
              "    </tr>\n",
              "    <tr>\n",
              "      <th>4</th>\n",
              "      <td>5</td>\n",
              "      <td>0</td>\n",
              "      <td>5</td>\n",
              "      <td>4006698507386</td>\n",
              "      <td>4345471235813</td>\n",
              "    </tr>\n",
              "    <tr>\n",
              "      <th>5</th>\n",
              "      <td>6</td>\n",
              "      <td>0</td>\n",
              "      <td>6</td>\n",
              "      <td>4345471235813</td>\n",
              "      <td>4122105394194</td>\n",
              "    </tr>\n",
              "    <tr>\n",
              "      <th>6</th>\n",
              "      <td>7</td>\n",
              "      <td>0</td>\n",
              "      <td>7</td>\n",
              "      <td>4122105394194</td>\n",
              "      <td>4187299694709</td>\n",
              "    </tr>\n",
              "    <tr>\n",
              "      <th>7</th>\n",
              "      <td>8</td>\n",
              "      <td>0</td>\n",
              "      <td>8</td>\n",
              "      <td>4187299694709</td>\n",
              "      <td>4268655968810</td>\n",
              "    </tr>\n",
              "    <tr>\n",
              "      <th>8</th>\n",
              "      <td>9</td>\n",
              "      <td>0</td>\n",
              "      <td>9</td>\n",
              "      <td>4268655968810</td>\n",
              "      <td>4123348058794</td>\n",
              "    </tr>\n",
              "    <tr>\n",
              "      <th>9</th>\n",
              "      <td>10</td>\n",
              "      <td>0</td>\n",
              "      <td>10</td>\n",
              "      <td>4123348058794</td>\n",
              "      <td>4176583723584</td>\n",
              "    </tr>\n",
              "    <tr>\n",
              "      <th>10</th>\n",
              "      <td>11</td>\n",
              "      <td>0</td>\n",
              "      <td>11</td>\n",
              "      <td>4176583723584</td>\n",
              "      <td>4047721898575</td>\n",
              "    </tr>\n",
              "    <tr>\n",
              "      <th>11</th>\n",
              "      <td>12</td>\n",
              "      <td>0</td>\n",
              "      <td>12</td>\n",
              "      <td>4047721898575</td>\n",
              "      <td>4292549731776</td>\n",
              "    </tr>\n",
              "    <tr>\n",
              "      <th>12</th>\n",
              "      <td>13</td>\n",
              "      <td>1</td>\n",
              "      <td>1</td>\n",
              "      <td>4292549731776</td>\n",
              "      <td>4124940612820</td>\n",
              "    </tr>\n",
              "    <tr>\n",
              "      <th>13</th>\n",
              "      <td>14</td>\n",
              "      <td>1</td>\n",
              "      <td>2</td>\n",
              "      <td>4124940612820</td>\n",
              "      <td>3370694945536</td>\n",
              "    </tr>\n",
              "    <tr>\n",
              "      <th>14</th>\n",
              "      <td>15</td>\n",
              "      <td>1</td>\n",
              "      <td>3</td>\n",
              "      <td>3370694945536</td>\n",
              "      <td>3437884426097</td>\n",
              "    </tr>\n",
              "    <tr>\n",
              "      <th>15</th>\n",
              "      <td>16</td>\n",
              "      <td>1</td>\n",
              "      <td>4</td>\n",
              "      <td>3437884426097</td>\n",
              "      <td>3542539370072</td>\n",
              "    </tr>\n",
              "  </tbody>\n",
              "</table>\n",
              "</div>"
            ],
            "text/plain": [
              "    index  year  month            lag            AMT\n",
              "0       1     0      1  4113542255379  4052317259025\n",
              "1       2     0      2  4052317259025  3634345832156\n",
              "2       3     0      3  3634345832156  4105409759731\n",
              "3       4     0      4  4105409759731  4006698507386\n",
              "4       5     0      5  4006698507386  4345471235813\n",
              "5       6     0      6  4345471235813  4122105394194\n",
              "6       7     0      7  4122105394194  4187299694709\n",
              "7       8     0      8  4187299694709  4268655968810\n",
              "8       9     0      9  4268655968810  4123348058794\n",
              "9      10     0     10  4123348058794  4176583723584\n",
              "10     11     0     11  4176583723584  4047721898575\n",
              "11     12     0     12  4047721898575  4292549731776\n",
              "12     13     1      1  4292549731776  4124940612820\n",
              "13     14     1      2  4124940612820  3370694945536\n",
              "14     15     1      3  3370694945536  3437884426097\n",
              "15     16     1      4  3437884426097  3542539370072"
            ]
          },
          "metadata": {
            "tags": []
          },
          "execution_count": 158
        }
      ]
    },
    {
      "cell_type": "code",
      "metadata": {
        "id": "YM4aM7X5fMK_",
        "colab": {
          "base_uri": "https://localhost:8080/",
          "height": 527
        },
        "outputId": "f5218a75-ceca-4563-f558-92c667b7f570"
      },
      "source": [
        "data_lag"
      ],
      "execution_count": null,
      "outputs": [
        {
          "output_type": "execute_result",
          "data": {
            "text/html": [
              "<div>\n",
              "<style scoped>\n",
              "    .dataframe tbody tr th:only-of-type {\n",
              "        vertical-align: middle;\n",
              "    }\n",
              "\n",
              "    .dataframe tbody tr th {\n",
              "        vertical-align: top;\n",
              "    }\n",
              "\n",
              "    .dataframe thead th {\n",
              "        text-align: right;\n",
              "    }\n",
              "</style>\n",
              "<table border=\"1\" class=\"dataframe\">\n",
              "  <thead>\n",
              "    <tr style=\"text-align: right;\">\n",
              "      <th></th>\n",
              "      <th>index</th>\n",
              "      <th>year</th>\n",
              "      <th>month</th>\n",
              "      <th>lag</th>\n",
              "      <th>AMT</th>\n",
              "    </tr>\n",
              "  </thead>\n",
              "  <tbody>\n",
              "    <tr>\n",
              "      <th>0</th>\n",
              "      <td>1</td>\n",
              "      <td>0</td>\n",
              "      <td>1</td>\n",
              "      <td>4113542255379</td>\n",
              "      <td>4052317259025</td>\n",
              "    </tr>\n",
              "    <tr>\n",
              "      <th>1</th>\n",
              "      <td>2</td>\n",
              "      <td>0</td>\n",
              "      <td>2</td>\n",
              "      <td>4052317259025</td>\n",
              "      <td>3634345832156</td>\n",
              "    </tr>\n",
              "    <tr>\n",
              "      <th>2</th>\n",
              "      <td>3</td>\n",
              "      <td>0</td>\n",
              "      <td>3</td>\n",
              "      <td>3634345832156</td>\n",
              "      <td>4105409759731</td>\n",
              "    </tr>\n",
              "    <tr>\n",
              "      <th>3</th>\n",
              "      <td>4</td>\n",
              "      <td>0</td>\n",
              "      <td>4</td>\n",
              "      <td>4105409759731</td>\n",
              "      <td>4006698507386</td>\n",
              "    </tr>\n",
              "    <tr>\n",
              "      <th>4</th>\n",
              "      <td>5</td>\n",
              "      <td>0</td>\n",
              "      <td>5</td>\n",
              "      <td>4006698507386</td>\n",
              "      <td>4345471235813</td>\n",
              "    </tr>\n",
              "    <tr>\n",
              "      <th>5</th>\n",
              "      <td>6</td>\n",
              "      <td>0</td>\n",
              "      <td>6</td>\n",
              "      <td>4345471235813</td>\n",
              "      <td>4122105394194</td>\n",
              "    </tr>\n",
              "    <tr>\n",
              "      <th>6</th>\n",
              "      <td>7</td>\n",
              "      <td>0</td>\n",
              "      <td>7</td>\n",
              "      <td>4122105394194</td>\n",
              "      <td>4187299694709</td>\n",
              "    </tr>\n",
              "    <tr>\n",
              "      <th>7</th>\n",
              "      <td>8</td>\n",
              "      <td>0</td>\n",
              "      <td>8</td>\n",
              "      <td>4187299694709</td>\n",
              "      <td>4268655968810</td>\n",
              "    </tr>\n",
              "    <tr>\n",
              "      <th>8</th>\n",
              "      <td>9</td>\n",
              "      <td>0</td>\n",
              "      <td>9</td>\n",
              "      <td>4268655968810</td>\n",
              "      <td>4123348058794</td>\n",
              "    </tr>\n",
              "    <tr>\n",
              "      <th>9</th>\n",
              "      <td>10</td>\n",
              "      <td>0</td>\n",
              "      <td>10</td>\n",
              "      <td>4123348058794</td>\n",
              "      <td>4176583723584</td>\n",
              "    </tr>\n",
              "    <tr>\n",
              "      <th>10</th>\n",
              "      <td>11</td>\n",
              "      <td>0</td>\n",
              "      <td>11</td>\n",
              "      <td>4176583723584</td>\n",
              "      <td>4047721898575</td>\n",
              "    </tr>\n",
              "    <tr>\n",
              "      <th>11</th>\n",
              "      <td>12</td>\n",
              "      <td>0</td>\n",
              "      <td>12</td>\n",
              "      <td>4047721898575</td>\n",
              "      <td>4292549731776</td>\n",
              "    </tr>\n",
              "    <tr>\n",
              "      <th>12</th>\n",
              "      <td>13</td>\n",
              "      <td>1</td>\n",
              "      <td>1</td>\n",
              "      <td>4292549731776</td>\n",
              "      <td>4124940612820</td>\n",
              "    </tr>\n",
              "    <tr>\n",
              "      <th>13</th>\n",
              "      <td>14</td>\n",
              "      <td>1</td>\n",
              "      <td>2</td>\n",
              "      <td>4124940612820</td>\n",
              "      <td>3370694945536</td>\n",
              "    </tr>\n",
              "    <tr>\n",
              "      <th>14</th>\n",
              "      <td>15</td>\n",
              "      <td>1</td>\n",
              "      <td>3</td>\n",
              "      <td>3370694945536</td>\n",
              "      <td>3437884426097</td>\n",
              "    </tr>\n",
              "    <tr>\n",
              "      <th>15</th>\n",
              "      <td>16</td>\n",
              "      <td>1</td>\n",
              "      <td>4</td>\n",
              "      <td>3437884426097</td>\n",
              "      <td>3542539370072</td>\n",
              "    </tr>\n",
              "  </tbody>\n",
              "</table>\n",
              "</div>"
            ],
            "text/plain": [
              "    index  year  month            lag            AMT\n",
              "0       1     0      1  4113542255379  4052317259025\n",
              "1       2     0      2  4052317259025  3634345832156\n",
              "2       3     0      3  3634345832156  4105409759731\n",
              "3       4     0      4  4105409759731  4006698507386\n",
              "4       5     0      5  4006698507386  4345471235813\n",
              "5       6     0      6  4345471235813  4122105394194\n",
              "6       7     0      7  4122105394194  4187299694709\n",
              "7       8     0      8  4187299694709  4268655968810\n",
              "8       9     0      9  4268655968810  4123348058794\n",
              "9      10     0     10  4123348058794  4176583723584\n",
              "10     11     0     11  4176583723584  4047721898575\n",
              "11     12     0     12  4047721898575  4292549731776\n",
              "12     13     1      1  4292549731776  4124940612820\n",
              "13     14     1      2  4124940612820  3370694945536\n",
              "14     15     1      3  3370694945536  3437884426097\n",
              "15     16     1      4  3437884426097  3542539370072"
            ]
          },
          "metadata": {
            "tags": []
          },
          "execution_count": 159
        }
      ]
    },
    {
      "cell_type": "code",
      "metadata": {
        "id": "PUCJ7zKpcggl"
      },
      "source": [
        "data_temp = data_lag.copy()\n",
        "year = pd.get_dummies(data_lag['year'])\n",
        "year = year.rename(columns={0:19,1:20})\n",
        "month = pd.get_dummies(data_temp['month'])\n",
        "data_lag = pd.concat([data_temp['index'],year, month,data_temp['lag'],data_temp['AMT']],axis = 1)"
      ],
      "execution_count": null,
      "outputs": []
    },
    {
      "cell_type": "code",
      "metadata": {
        "id": "gHstZVW0Ktzj",
        "colab": {
          "base_uri": "https://localhost:8080/",
          "height": 527
        },
        "outputId": "1fd4f5a5-c6a2-42c0-9332-534176927b9f"
      },
      "source": [
        "data_lag"
      ],
      "execution_count": null,
      "outputs": [
        {
          "output_type": "execute_result",
          "data": {
            "text/html": [
              "<div>\n",
              "<style scoped>\n",
              "    .dataframe tbody tr th:only-of-type {\n",
              "        vertical-align: middle;\n",
              "    }\n",
              "\n",
              "    .dataframe tbody tr th {\n",
              "        vertical-align: top;\n",
              "    }\n",
              "\n",
              "    .dataframe thead th {\n",
              "        text-align: right;\n",
              "    }\n",
              "</style>\n",
              "<table border=\"1\" class=\"dataframe\">\n",
              "  <thead>\n",
              "    <tr style=\"text-align: right;\">\n",
              "      <th></th>\n",
              "      <th>index</th>\n",
              "      <th>19</th>\n",
              "      <th>20</th>\n",
              "      <th>1</th>\n",
              "      <th>2</th>\n",
              "      <th>3</th>\n",
              "      <th>4</th>\n",
              "      <th>5</th>\n",
              "      <th>6</th>\n",
              "      <th>7</th>\n",
              "      <th>8</th>\n",
              "      <th>9</th>\n",
              "      <th>10</th>\n",
              "      <th>11</th>\n",
              "      <th>12</th>\n",
              "      <th>lag</th>\n",
              "      <th>AMT</th>\n",
              "    </tr>\n",
              "  </thead>\n",
              "  <tbody>\n",
              "    <tr>\n",
              "      <th>0</th>\n",
              "      <td>1</td>\n",
              "      <td>1</td>\n",
              "      <td>0</td>\n",
              "      <td>1</td>\n",
              "      <td>0</td>\n",
              "      <td>0</td>\n",
              "      <td>0</td>\n",
              "      <td>0</td>\n",
              "      <td>0</td>\n",
              "      <td>0</td>\n",
              "      <td>0</td>\n",
              "      <td>0</td>\n",
              "      <td>0</td>\n",
              "      <td>0</td>\n",
              "      <td>0</td>\n",
              "      <td>4113542255379</td>\n",
              "      <td>4052317259025</td>\n",
              "    </tr>\n",
              "    <tr>\n",
              "      <th>1</th>\n",
              "      <td>2</td>\n",
              "      <td>1</td>\n",
              "      <td>0</td>\n",
              "      <td>0</td>\n",
              "      <td>1</td>\n",
              "      <td>0</td>\n",
              "      <td>0</td>\n",
              "      <td>0</td>\n",
              "      <td>0</td>\n",
              "      <td>0</td>\n",
              "      <td>0</td>\n",
              "      <td>0</td>\n",
              "      <td>0</td>\n",
              "      <td>0</td>\n",
              "      <td>0</td>\n",
              "      <td>4052317259025</td>\n",
              "      <td>3634345832156</td>\n",
              "    </tr>\n",
              "    <tr>\n",
              "      <th>2</th>\n",
              "      <td>3</td>\n",
              "      <td>1</td>\n",
              "      <td>0</td>\n",
              "      <td>0</td>\n",
              "      <td>0</td>\n",
              "      <td>1</td>\n",
              "      <td>0</td>\n",
              "      <td>0</td>\n",
              "      <td>0</td>\n",
              "      <td>0</td>\n",
              "      <td>0</td>\n",
              "      <td>0</td>\n",
              "      <td>0</td>\n",
              "      <td>0</td>\n",
              "      <td>0</td>\n",
              "      <td>3634345832156</td>\n",
              "      <td>4105409759731</td>\n",
              "    </tr>\n",
              "    <tr>\n",
              "      <th>3</th>\n",
              "      <td>4</td>\n",
              "      <td>1</td>\n",
              "      <td>0</td>\n",
              "      <td>0</td>\n",
              "      <td>0</td>\n",
              "      <td>0</td>\n",
              "      <td>1</td>\n",
              "      <td>0</td>\n",
              "      <td>0</td>\n",
              "      <td>0</td>\n",
              "      <td>0</td>\n",
              "      <td>0</td>\n",
              "      <td>0</td>\n",
              "      <td>0</td>\n",
              "      <td>0</td>\n",
              "      <td>4105409759731</td>\n",
              "      <td>4006698507386</td>\n",
              "    </tr>\n",
              "    <tr>\n",
              "      <th>4</th>\n",
              "      <td>5</td>\n",
              "      <td>1</td>\n",
              "      <td>0</td>\n",
              "      <td>0</td>\n",
              "      <td>0</td>\n",
              "      <td>0</td>\n",
              "      <td>0</td>\n",
              "      <td>1</td>\n",
              "      <td>0</td>\n",
              "      <td>0</td>\n",
              "      <td>0</td>\n",
              "      <td>0</td>\n",
              "      <td>0</td>\n",
              "      <td>0</td>\n",
              "      <td>0</td>\n",
              "      <td>4006698507386</td>\n",
              "      <td>4345471235813</td>\n",
              "    </tr>\n",
              "    <tr>\n",
              "      <th>5</th>\n",
              "      <td>6</td>\n",
              "      <td>1</td>\n",
              "      <td>0</td>\n",
              "      <td>0</td>\n",
              "      <td>0</td>\n",
              "      <td>0</td>\n",
              "      <td>0</td>\n",
              "      <td>0</td>\n",
              "      <td>1</td>\n",
              "      <td>0</td>\n",
              "      <td>0</td>\n",
              "      <td>0</td>\n",
              "      <td>0</td>\n",
              "      <td>0</td>\n",
              "      <td>0</td>\n",
              "      <td>4345471235813</td>\n",
              "      <td>4122105394194</td>\n",
              "    </tr>\n",
              "    <tr>\n",
              "      <th>6</th>\n",
              "      <td>7</td>\n",
              "      <td>1</td>\n",
              "      <td>0</td>\n",
              "      <td>0</td>\n",
              "      <td>0</td>\n",
              "      <td>0</td>\n",
              "      <td>0</td>\n",
              "      <td>0</td>\n",
              "      <td>0</td>\n",
              "      <td>1</td>\n",
              "      <td>0</td>\n",
              "      <td>0</td>\n",
              "      <td>0</td>\n",
              "      <td>0</td>\n",
              "      <td>0</td>\n",
              "      <td>4122105394194</td>\n",
              "      <td>4187299694709</td>\n",
              "    </tr>\n",
              "    <tr>\n",
              "      <th>7</th>\n",
              "      <td>8</td>\n",
              "      <td>1</td>\n",
              "      <td>0</td>\n",
              "      <td>0</td>\n",
              "      <td>0</td>\n",
              "      <td>0</td>\n",
              "      <td>0</td>\n",
              "      <td>0</td>\n",
              "      <td>0</td>\n",
              "      <td>0</td>\n",
              "      <td>1</td>\n",
              "      <td>0</td>\n",
              "      <td>0</td>\n",
              "      <td>0</td>\n",
              "      <td>0</td>\n",
              "      <td>4187299694709</td>\n",
              "      <td>4268655968810</td>\n",
              "    </tr>\n",
              "    <tr>\n",
              "      <th>8</th>\n",
              "      <td>9</td>\n",
              "      <td>1</td>\n",
              "      <td>0</td>\n",
              "      <td>0</td>\n",
              "      <td>0</td>\n",
              "      <td>0</td>\n",
              "      <td>0</td>\n",
              "      <td>0</td>\n",
              "      <td>0</td>\n",
              "      <td>0</td>\n",
              "      <td>0</td>\n",
              "      <td>1</td>\n",
              "      <td>0</td>\n",
              "      <td>0</td>\n",
              "      <td>0</td>\n",
              "      <td>4268655968810</td>\n",
              "      <td>4123348058794</td>\n",
              "    </tr>\n",
              "    <tr>\n",
              "      <th>9</th>\n",
              "      <td>10</td>\n",
              "      <td>1</td>\n",
              "      <td>0</td>\n",
              "      <td>0</td>\n",
              "      <td>0</td>\n",
              "      <td>0</td>\n",
              "      <td>0</td>\n",
              "      <td>0</td>\n",
              "      <td>0</td>\n",
              "      <td>0</td>\n",
              "      <td>0</td>\n",
              "      <td>0</td>\n",
              "      <td>1</td>\n",
              "      <td>0</td>\n",
              "      <td>0</td>\n",
              "      <td>4123348058794</td>\n",
              "      <td>4176583723584</td>\n",
              "    </tr>\n",
              "    <tr>\n",
              "      <th>10</th>\n",
              "      <td>11</td>\n",
              "      <td>1</td>\n",
              "      <td>0</td>\n",
              "      <td>0</td>\n",
              "      <td>0</td>\n",
              "      <td>0</td>\n",
              "      <td>0</td>\n",
              "      <td>0</td>\n",
              "      <td>0</td>\n",
              "      <td>0</td>\n",
              "      <td>0</td>\n",
              "      <td>0</td>\n",
              "      <td>0</td>\n",
              "      <td>1</td>\n",
              "      <td>0</td>\n",
              "      <td>4176583723584</td>\n",
              "      <td>4047721898575</td>\n",
              "    </tr>\n",
              "    <tr>\n",
              "      <th>11</th>\n",
              "      <td>12</td>\n",
              "      <td>1</td>\n",
              "      <td>0</td>\n",
              "      <td>0</td>\n",
              "      <td>0</td>\n",
              "      <td>0</td>\n",
              "      <td>0</td>\n",
              "      <td>0</td>\n",
              "      <td>0</td>\n",
              "      <td>0</td>\n",
              "      <td>0</td>\n",
              "      <td>0</td>\n",
              "      <td>0</td>\n",
              "      <td>0</td>\n",
              "      <td>1</td>\n",
              "      <td>4047721898575</td>\n",
              "      <td>4292549731776</td>\n",
              "    </tr>\n",
              "    <tr>\n",
              "      <th>12</th>\n",
              "      <td>13</td>\n",
              "      <td>0</td>\n",
              "      <td>1</td>\n",
              "      <td>1</td>\n",
              "      <td>0</td>\n",
              "      <td>0</td>\n",
              "      <td>0</td>\n",
              "      <td>0</td>\n",
              "      <td>0</td>\n",
              "      <td>0</td>\n",
              "      <td>0</td>\n",
              "      <td>0</td>\n",
              "      <td>0</td>\n",
              "      <td>0</td>\n",
              "      <td>0</td>\n",
              "      <td>4292549731776</td>\n",
              "      <td>4124940612820</td>\n",
              "    </tr>\n",
              "    <tr>\n",
              "      <th>13</th>\n",
              "      <td>14</td>\n",
              "      <td>0</td>\n",
              "      <td>1</td>\n",
              "      <td>0</td>\n",
              "      <td>1</td>\n",
              "      <td>0</td>\n",
              "      <td>0</td>\n",
              "      <td>0</td>\n",
              "      <td>0</td>\n",
              "      <td>0</td>\n",
              "      <td>0</td>\n",
              "      <td>0</td>\n",
              "      <td>0</td>\n",
              "      <td>0</td>\n",
              "      <td>0</td>\n",
              "      <td>4124940612820</td>\n",
              "      <td>3370694945536</td>\n",
              "    </tr>\n",
              "    <tr>\n",
              "      <th>14</th>\n",
              "      <td>15</td>\n",
              "      <td>0</td>\n",
              "      <td>1</td>\n",
              "      <td>0</td>\n",
              "      <td>0</td>\n",
              "      <td>1</td>\n",
              "      <td>0</td>\n",
              "      <td>0</td>\n",
              "      <td>0</td>\n",
              "      <td>0</td>\n",
              "      <td>0</td>\n",
              "      <td>0</td>\n",
              "      <td>0</td>\n",
              "      <td>0</td>\n",
              "      <td>0</td>\n",
              "      <td>3370694945536</td>\n",
              "      <td>3437884426097</td>\n",
              "    </tr>\n",
              "    <tr>\n",
              "      <th>15</th>\n",
              "      <td>16</td>\n",
              "      <td>0</td>\n",
              "      <td>1</td>\n",
              "      <td>0</td>\n",
              "      <td>0</td>\n",
              "      <td>0</td>\n",
              "      <td>1</td>\n",
              "      <td>0</td>\n",
              "      <td>0</td>\n",
              "      <td>0</td>\n",
              "      <td>0</td>\n",
              "      <td>0</td>\n",
              "      <td>0</td>\n",
              "      <td>0</td>\n",
              "      <td>0</td>\n",
              "      <td>3437884426097</td>\n",
              "      <td>3542539370072</td>\n",
              "    </tr>\n",
              "  </tbody>\n",
              "</table>\n",
              "</div>"
            ],
            "text/plain": [
              "    index  19  20  1  2  3  4  ...  8  9  10  11  12            lag            AMT\n",
              "0       1   1   0  1  0  0  0  ...  0  0   0   0   0  4113542255379  4052317259025\n",
              "1       2   1   0  0  1  0  0  ...  0  0   0   0   0  4052317259025  3634345832156\n",
              "2       3   1   0  0  0  1  0  ...  0  0   0   0   0  3634345832156  4105409759731\n",
              "3       4   1   0  0  0  0  1  ...  0  0   0   0   0  4105409759731  4006698507386\n",
              "4       5   1   0  0  0  0  0  ...  0  0   0   0   0  4006698507386  4345471235813\n",
              "5       6   1   0  0  0  0  0  ...  0  0   0   0   0  4345471235813  4122105394194\n",
              "6       7   1   0  0  0  0  0  ...  0  0   0   0   0  4122105394194  4187299694709\n",
              "7       8   1   0  0  0  0  0  ...  1  0   0   0   0  4187299694709  4268655968810\n",
              "8       9   1   0  0  0  0  0  ...  0  1   0   0   0  4268655968810  4123348058794\n",
              "9      10   1   0  0  0  0  0  ...  0  0   1   0   0  4123348058794  4176583723584\n",
              "10     11   1   0  0  0  0  0  ...  0  0   0   1   0  4176583723584  4047721898575\n",
              "11     12   1   0  0  0  0  0  ...  0  0   0   0   1  4047721898575  4292549731776\n",
              "12     13   0   1  1  0  0  0  ...  0  0   0   0   0  4292549731776  4124940612820\n",
              "13     14   0   1  0  1  0  0  ...  0  0   0   0   0  4124940612820  3370694945536\n",
              "14     15   0   1  0  0  1  0  ...  0  0   0   0   0  3370694945536  3437884426097\n",
              "15     16   0   1  0  0  0  1  ...  0  0   0   0   0  3437884426097  3542539370072\n",
              "\n",
              "[16 rows x 17 columns]"
            ]
          },
          "metadata": {
            "tags": []
          },
          "execution_count": 161
        }
      ]
    },
    {
      "cell_type": "code",
      "metadata": {
        "id": "k0zYg4B2Ktz5",
        "colab": {
          "base_uri": "https://localhost:8080/",
          "height": 34
        },
        "outputId": "cec28cb6-a91f-44ad-e600-9dd375f04eb8"
      },
      "source": [
        "'''\n",
        "data_ex --> data_lag\n",
        "data_nav --> data_nav\n",
        "'''"
      ],
      "execution_count": null,
      "outputs": [
        {
          "output_type": "execute_result",
          "data": {
            "application/vnd.google.colaboratory.intrinsic+json": {
              "type": "string"
            },
            "text/plain": [
              "'\\ndata_ex --> data_lag\\ndata_nav --> data_nav\\n'"
            ]
          },
          "metadata": {
            "tags": []
          },
          "execution_count": 162
        }
      ]
    },
    {
      "cell_type": "code",
      "metadata": {
        "id": "NJARq_tVyt-R",
        "colab": {
          "base_uri": "https://localhost:8080/",
          "height": 336
        },
        "outputId": "2f4ead17-371d-4437-af0f-04a0a23cf961"
      },
      "source": [
        "data_train = data_lag.copy()\n",
        "data_train = data_train[:-1]\n",
        "data_test = data_lag.iloc[-1]\n",
        "data_test"
      ],
      "execution_count": null,
      "outputs": [
        {
          "output_type": "execute_result",
          "data": {
            "text/plain": [
              "index               16\n",
              "19                   0\n",
              "20                   1\n",
              "1                    0\n",
              "2                    0\n",
              "3                    0\n",
              "4                    1\n",
              "5                    0\n",
              "6                    0\n",
              "7                    0\n",
              "8                    0\n",
              "9                    0\n",
              "10                   0\n",
              "11                   0\n",
              "12                   0\n",
              "lag      3437884426097\n",
              "AMT      3542539370072\n",
              "Name: 15, dtype: int64"
            ]
          },
          "metadata": {
            "tags": []
          },
          "execution_count": 163
        }
      ]
    },
    {
      "cell_type": "code",
      "metadata": {
        "id": "YbRGpSfq8rYl",
        "colab": {
          "base_uri": "https://localhost:8080/",
          "height": 87
        },
        "outputId": "ab5f3449-6513-48d2-c83a-8fa32cc6ab81"
      },
      "source": [
        "test_input = data_test.iloc[:-2]\n",
        "test_input_lag = np.log1p(data_test.iloc[-2])\n",
        "test_input['lag'] = test_input_lag\n",
        "test_input = np.array([test_input])\n",
        "\n",
        "test_output = np.log1p([data_test.iloc[-1]])\n",
        "print(test_input)\n",
        "print(test_output)"
      ],
      "execution_count": null,
      "outputs": [
        {
          "output_type": "stream",
          "text": [
            "[[16.          0.          1.          0.          0.          0.\n",
            "   1.          0.          0.          0.          0.          0.\n",
            "   0.          0.          0.         28.86587741]]\n",
            "[28.89586492]\n"
          ],
          "name": "stdout"
        }
      ]
    },
    {
      "cell_type": "code",
      "metadata": {
        "id": "4TIsONZzKt0A",
        "colab": {
          "base_uri": "https://localhost:8080/",
          "height": 34
        },
        "outputId": "f6e24813-678b-465b-976d-ab6bd160cf40"
      },
      "source": [
        "'''\n",
        "Top Level Prediction\n",
        "'''"
      ],
      "execution_count": null,
      "outputs": [
        {
          "output_type": "execute_result",
          "data": {
            "application/vnd.google.colaboratory.intrinsic+json": {
              "type": "string"
            },
            "text/plain": [
              "'\\nTop Level Prediction\\n'"
            ]
          },
          "metadata": {
            "tags": []
          },
          "execution_count": 165
        }
      ]
    },
    {
      "cell_type": "code",
      "metadata": {
        "id": "1Inu6lMkUHO8",
        "colab": {
          "base_uri": "https://localhost:8080/",
          "height": 34
        },
        "outputId": "308b61a0-04f0-45b6-eeda-61d080ec2e3e"
      },
      "source": [
        "'''\n",
        "Random Forrest\n",
        "'''"
      ],
      "execution_count": null,
      "outputs": [
        {
          "output_type": "execute_result",
          "data": {
            "application/vnd.google.colaboratory.intrinsic+json": {
              "type": "string"
            },
            "text/plain": [
              "'\\nRandom Forrest\\n'"
            ]
          },
          "metadata": {
            "tags": []
          },
          "execution_count": 166
        }
      ]
    },
    {
      "cell_type": "code",
      "metadata": {
        "id": "g1KSO_URKt0q"
      },
      "source": [
        "from scipy import stats\n",
        "from sklearn.base import BaseEstimator\n",
        "from sklearn.model_selection import GridSearchCV\n",
        "from sklearn.linear_model import LinearRegression\n",
        "from sklearn.preprocessing import PolynomialFeatures\n",
        "from sklearn.metrics import mean_squared_error"
      ],
      "execution_count": null,
      "outputs": []
    },
    {
      "cell_type": "code",
      "metadata": {
        "id": "CyqxlovYSoX8"
      },
      "source": [
        "X_features = data_train.iloc[:,:-2]\n",
        "\n",
        "X_labels = np.array(data_train.iloc[:, -2])\n",
        "X_labels = np.log1p(X_labels)[:]\n",
        "X_labels = pd.DataFrame(X_labels)\n",
        "\n",
        "temp_pd = pd.concat([X_features,X_labels], axis = 1)\n",
        "temp_pd = temp_pd.rename(columns={0:'lag'})\n",
        "X_feature = np.array(temp_pd)\n",
        "\n",
        "y_labels = np.array(data_train.iloc[:, -1])\n",
        " \n",
        "X_train, y_train = X_feature[:-1, :], np.log1p(y_labels)[:-1]\n",
        "X_test, y_test = X_feature[-1:, :], np.log1p(y_labels)[-1:]"
      ],
      "execution_count": null,
      "outputs": []
    },
    {
      "cell_type": "code",
      "metadata": {
        "id": "guNNj4pNSoQ7"
      },
      "source": [
        "from sklearn.ensemble import RandomForestRegressor\n",
        " \n",
        "regressor = RandomForestRegressor(n_estimators=20, random_state=42)\n",
        "regressor.fit(X_train, y_train)\n",
        "y_pred = regressor.predict(X_test)\n",
        "test_pred = regressor.predict(test_input)"
      ],
      "execution_count": null,
      "outputs": []
    },
    {
      "cell_type": "code",
      "metadata": {
        "id": "10YplVYpSoKH",
        "colab": {
          "base_uri": "https://localhost:8080/",
          "height": 70
        },
        "outputId": "50e95f57-a039-4ede-82c8-73d62fc879e5"
      },
      "source": [
        "from sklearn import metrics\n",
        " \n",
        "print('Mean Absolute Error:', metrics.mean_absolute_error(y_test, y_pred))\n",
        "print('Mean Squared Error:', metrics.mean_squared_error(y_test, y_pred))\n",
        "print('Root Mean Squared Error:', np.sqrt(metrics.mean_squared_error(y_test, y_pred)))\n",
        " \n",
        "pred = np.expm1(y_pred)"
      ],
      "execution_count": null,
      "outputs": [
        {
          "output_type": "stream",
          "text": [
            "Mean Absolute Error: 0.1362039606668901\n",
            "Mean Squared Error: 0.01855151890134775\n",
            "Root Mean Squared Error: 0.1362039606668901\n"
          ],
          "name": "stdout"
        }
      ]
    },
    {
      "cell_type": "code",
      "metadata": {
        "id": "sUIEyUc0-HIk",
        "colab": {
          "base_uri": "https://localhost:8080/",
          "height": 70
        },
        "outputId": "01f1ab83-e5ab-479b-955b-7b2778b8b6bf"
      },
      "source": [
        " print('Mean Absolute Error:', metrics.mean_absolute_error(test_output, test_pred))\n",
        "print('Mean Squared Error:', metrics.mean_squared_error(test_output, test_pred))\n",
        "print('Root Mean Squared Error:', np.sqrt(metrics.mean_squared_error(test_output, test_pred)))\n",
        " \n",
        "pred = np.expm1(test_pred)"
      ],
      "execution_count": null,
      "outputs": [
        {
          "output_type": "stream",
          "text": [
            "Mean Absolute Error: 0.09782881834869173\n",
            "Mean Squared Error: 0.009570477699501322\n",
            "Root Mean Squared Error: 0.09782881834869173\n"
          ],
          "name": "stdout"
        }
      ]
    },
    {
      "cell_type": "code",
      "metadata": {
        "id": "4IRSF_t_U1lC"
      },
      "source": [
        "true_graph = np.concatenate((y_train, y_test, test_output))"
      ],
      "execution_count": null,
      "outputs": []
    },
    {
      "cell_type": "code",
      "metadata": {
        "id": "r3FOgv0VJZoy",
        "colab": {
          "base_uri": "https://localhost:8080/",
          "height": 282
        },
        "outputId": "f094fd85-20e6-4992-fd5b-bf293e8d7684"
      },
      "source": [
        "import matplotlib.pyplot as plt\n",
        "plt.plot(true_graph)"
      ],
      "execution_count": null,
      "outputs": [
        {
          "output_type": "execute_result",
          "data": {
            "text/plain": [
              "[<matplotlib.lines.Line2D at 0x7fcf3b7fbe80>]"
            ]
          },
          "metadata": {
            "tags": []
          },
          "execution_count": 307
        },
        {
          "output_type": "display_data",
          "data": {
            "image/png": "[encoded data removed]",
            "text/plain": [
              "<Figure size 432x288 with 1 Axes>"
            ]
          },
          "metadata": {
            "tags": [],
            "needs_background": "light"
          }
        }
      ]
    },
    {
      "cell_type": "code",
      "metadata": {
        "id": "6RlbQsHwVIVh",
        "colab": {
          "base_uri": "https://localhost:8080/",
          "height": 282
        },
        "outputId": "414a1907-b48b-4b7d-e568-81904d983ed1"
      },
      "source": [
        "import matplotlib.pyplot as plt\n",
        "without = np.concatenate((y_train, y_test))\n",
        "plt.plot(without)"
      ],
      "execution_count": null,
      "outputs": [
        {
          "output_type": "execute_result",
          "data": {
            "text/plain": [
              "[<matplotlib.lines.Line2D at 0x7fcf3b95e198>]"
            ]
          },
          "metadata": {
            "tags": []
          },
          "execution_count": 297
        },
        {
          "output_type": "display_data",
          "data": {
            "image/png": "[encoded data removed]",
            "text/plain": [
              "<Figure size 432x288 with 1 Axes>"
            ]
          },
          "metadata": {
            "tags": [],
            "needs_background": "light"
          }
        }
      ]
    },
    {
      "cell_type": "code",
      "metadata": {
        "id": "5J7GRqeeXM1m"
      },
      "source": [
        "april = np.array([[16,0,1,0,0,0,1,0,0,0,0,0,0,0,0]]) \n",
        "may = np.array([[17,0,1,0,0,0,0,1,0,0,0,0,0,0,0]])\n",
        "june = np.array([[18,0,1,0,0,0,0,0,1,0,0,0,0,0,0]])\n",
        "july = np.array([[19,0,1,0,0,0,0,0,0,1,0,0,0,0,0]])"
      ],
      "execution_count": null,
      "outputs": []
    },
    {
      "cell_type": "code",
      "metadata": {
        "id": "Xy1ANsM6VYHh"
      },
      "source": [
        "april = np.concatenate((april,np.array([test_pred])), axis = 1)\n",
        "april_pred = regressor.predict(april)\n",
        "may = np.concatenate((may,np.array([april_pred])), axis = 1)\n",
        "may_pred = regressor.predict(may)\n",
        "june = np.concatenate((june,np.array([may_pred])), axis = 1)\n",
        "june_pred = regressor.predict(june)\n",
        "july = np.concatenate((july,np.array([june_pred])), axis = 1)\n",
        "july_pred = regressor.predict(july)"
      ],
      "execution_count": null,
      "outputs": []
    },
    {
      "cell_type": "code",
      "metadata": {
        "id": "YFhoqX8QXsmx",
        "colab": {
          "base_uri": "https://localhost:8080/",
          "height": 87
        },
        "outputId": "108676dd-8925-4b4f-d3af-959f828afe11"
      },
      "source": [
        "april"
      ],
      "execution_count": null,
      "outputs": [
        {
          "output_type": "execute_result",
          "data": {
            "text/plain": [
              "array([[16.        ,  0.        ,  1.        ,  0.        ,  0.        ,\n",
              "         0.        ,  1.        ,  0.        ,  0.        ,  0.        ,\n",
              "         0.        ,  0.        ,  0.        ,  0.        ,  0.        ,\n",
              "        28.99369374]])"
            ]
          },
          "metadata": {
            "tags": []
          },
          "execution_count": 313
        }
      ]
    },
    {
      "cell_type": "code",
      "metadata": {
        "id": "pIfy3PdtMoOQ",
        "colab": {
          "base_uri": "https://localhost:8080/",
          "height": 87
        },
        "outputId": "e8b7315e-36c5-4d5b-fc27-57be1b8d2050"
      },
      "source": [
        "may"
      ],
      "execution_count": null,
      "outputs": [
        {
          "output_type": "execute_result",
          "data": {
            "text/plain": [
              "array([[17.        ,  0.        ,  1.        ,  0.        ,  0.        ,\n",
              "         0.        ,  0.        ,  1.        ,  0.        ,  0.        ,\n",
              "         0.        ,  0.        ,  0.        ,  0.        ,  0.        ,\n",
              "        28.99369374]])"
            ]
          },
          "metadata": {
            "tags": []
          },
          "execution_count": 314
        }
      ]
    },
    {
      "cell_type": "code",
      "metadata": {
        "id": "b-ALsocGMn2B",
        "colab": {
          "base_uri": "https://localhost:8080/",
          "height": 87
        },
        "outputId": "8ab78a06-5562-438b-a287-c7ba1f35c00c"
      },
      "source": [
        "june"
      ],
      "execution_count": null,
      "outputs": [
        {
          "output_type": "execute_result",
          "data": {
            "text/plain": [
              "array([[18.        ,  0.        ,  1.        ,  0.        ,  0.        ,\n",
              "         0.        ,  0.        ,  0.        ,  1.        ,  0.        ,\n",
              "         0.        ,  0.        ,  0.        ,  0.        ,  0.        ,\n",
              "        29.01792732]])"
            ]
          },
          "metadata": {
            "tags": []
          },
          "execution_count": 315
        }
      ]
    },
    {
      "cell_type": "code",
      "metadata": {
        "id": "uVEtPuzeMnW9",
        "colab": {
          "base_uri": "https://localhost:8080/",
          "height": 87
        },
        "outputId": "04d7e705-e46b-4e29-e938-11963f39d4a1"
      },
      "source": [
        "july"
      ],
      "execution_count": null,
      "outputs": [
        {
          "output_type": "execute_result",
          "data": {
            "text/plain": [
              "array([[19.        ,  0.        ,  1.        ,  0.        ,  0.        ,\n",
              "         0.        ,  0.        ,  0.        ,  0.        ,  1.        ,\n",
              "         0.        ,  0.        ,  0.        ,  0.        ,  0.        ,\n",
              "        28.99928403]])"
            ]
          },
          "metadata": {
            "tags": []
          },
          "execution_count": 316
        }
      ]
    },
    {
      "cell_type": "code",
      "metadata": {
        "id": "uidaYryyZSWU",
        "colab": {
          "base_uri": "https://localhost:8080/",
          "height": 282
        },
        "outputId": "1c31d95b-f0a2-4408-bafc-cdf652bb4c4b"
      },
      "source": [
        "import matplotlib.pyplot as plt\n",
        "without = np.concatenate((y_train, y_test, april_pred, may_pred, june_pred, july_pred))\n",
        "plt.plot(without)"
      ],
      "execution_count": null,
      "outputs": [
        {
          "output_type": "execute_result",
          "data": {
            "text/plain": [
              "[<matplotlib.lines.Line2D at 0x7fcf3b74c4e0>]"
            ]
          },
          "metadata": {
            "tags": []
          },
          "execution_count": 317
        },
        {
          "output_type": "display_data",
          "data": {
            "image/png": "[encoded data removed]",
            "text/plain": [
              "<Figure size 432x288 with 1 Axes>"
            ]
          },
          "metadata": {
            "tags": [],
            "needs_background": "light"
          }
        }
      ]
    }
  ]
}